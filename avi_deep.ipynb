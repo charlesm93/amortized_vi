{
 "cells": [
  {
   "cell_type": "code",
   "execution_count": 1,
   "id": "f934baee",
   "metadata": {},
   "outputs": [],
   "source": [
    "import numpy as np\n",
    "import torch\n",
    "import torch.nn as nn\n",
    "import torch.nn.functional as F\n",
    "from torch.autograd import Variable  # CHECK: do I need this?\n",
    "\n",
    "import matplotlib.pyplot as plt\n",
    "%matplotlib inline\n",
    "plt.style.use('ggplot')\n",
    "import seaborn\n",
    "\n",
    "# from plots at the end -- TODO: try doing this only with PyTorch.\n",
    "from scipy.stats import norm"
   ]
  },
  {
   "cell_type": "markdown",
   "id": "c6f5a0bd",
   "metadata": {},
   "source": [
    "### Simulate data"
   ]
  },
  {
   "cell_type": "code",
   "execution_count": 2,
   "id": "020f031f",
   "metadata": {},
   "outputs": [],
   "source": [
    "input_size = 2   # input is theta and z_i\n",
    "output_size = 2  # output is mu_i and log(sigma_i) \n",
    "nn_width = 15\n",
    "\n",
    "class likelihood_NN(nn.Module):\n",
    "    \n",
    "    def __init__(self):\n",
    "        super(likelihood_NN, self).__init__()\n",
    "        self.m1 = nn.Linear(input_size, nn_width)\n",
    "        self.m2 = nn.Linear(nn_width, nn_width)\n",
    "        self.m3 = nn.Linear(nn_width, 1)\n",
    "        \n",
    "        self.s1 = nn.Linear(input_size, nn_width)\n",
    "        self.s2 = nn.Linear(nn_width, nn_width)\n",
    "        self.s3 = nn.Linear(nn_width, 1)\n",
    "        \n",
    "    def forward_mean(self, theta, z):\n",
    "#         nn_input = torch.zeros([n, 2])\n",
    "#         nn_input[:, 0] = theta_rep\n",
    "#         nn_input[:, 1] = z\n",
    "#         m = F.relu(self.m1(nn_input))\n",
    "#         m = F.relu(self.m2(m))\n",
    "#         m = self.m3(m)\n",
    "        m = theta + torch.sin(z) * z + z\n",
    "        return m\n",
    "    \n",
    "    def forward_sd(self, theta, z):\n",
    "#         nn_input = torch.zeros([n, 2])\n",
    "#         nn_input[:, 0] = theta_rep\n",
    "#         nn_input[:, 1] = z\n",
    "#         s = F.relu(self.s1(nn_input))\n",
    "#         s = F.relu(self.s2(s))\n",
    "#         s = self.s3(s)\n",
    "        s = torch.cos(z)\n",
    "        return s\n",
    "    "
   ]
  },
  {
   "cell_type": "code",
   "execution_count": 3,
   "id": "6df28831",
   "metadata": {},
   "outputs": [],
   "source": [
    "torch.manual_seed(1789)\n",
    "likelihood_nn = likelihood_NN()\n",
    "\n",
    "theta = torch.randn(1)\n",
    "\n",
    "n = 10000\n",
    "theta_rep = theta.repeat(n)\n",
    "z = 5 * torch.randn(n)\n",
    "x = torch.randn(n, 1)\n",
    "\n",
    "f_mean = likelihood_nn.forward_mean(theta, z)\n",
    "f_sd = likelihood_nn.forward_sd(theta, z)\n",
    "\n",
    "x = f_mean.reshape(n, 1) + x * torch.exp(f_sd).reshape(n, 1)\n"
   ]
  },
  {
   "cell_type": "code",
   "execution_count": 15,
   "id": "19374e53",
   "metadata": {},
   "outputs": [
    {
     "data": {
      "image/png": "[encoded data removed]",
      "text/plain": [
       "<Figure size 432x288 with 1 Axes>"
      ]
     },
     "metadata": {},
     "output_type": "display_data"
    }
   ],
   "source": [
    "# Let's examine the data, in particular, plot x as a function of z.\n",
    "# plt.scatter(z.detach.numpy(), x.detach.numpy())\n",
    "plt.scatter(z.detach().numpy(), x.detach().numpy())\n",
    "# plt.scatter(z.detach().numpy(), f_mean.detach().numpy(), marker = '^')\n",
    "plt.xlabel(\"z\")\n",
    "plt.ylabel(\"x\")\n",
    "plt.savefig(\"to_discuss/z_deep.pdf\")\n",
    "plt.show()\n"
   ]
  },
  {
   "cell_type": "code",
   "execution_count": 11,
   "id": "4e89763f",
   "metadata": {},
   "outputs": [
    {
     "name": "stderr",
     "output_type": "stream",
     "text": [
      "<ipython-input-11-a6a28ff682f1>:7: UserWarning: Matplotlib is currently using module://ipykernel.pylab.backend_inline, which is a non-GUI backend, so cannot show the figure.\n",
      "  fig.show()\n"
     ]
    },
    {
     "data": {
      "image/png": "[encoded data removed]",
      "text/plain": [
       "<Figure size 432x288 with 1 Axes>"
      ]
     },
     "metadata": {},
     "output_type": "display_data"
    }
   ],
   "source": [
    "# plot x\n",
    "nbins = 100\n",
    "fig, axs = plt.subplots(1, 1)\n",
    "axs.hist(x.detach().numpy(), bins = nbins, density = True)\n",
    "axs.set_title(\"p(x)\")\n",
    "fig.savefig(\"to_discuss/p_deep.pdf\")\n",
    "fig.show()"
   ]
  },
  {
   "cell_type": "code",
   "execution_count": 5,
   "id": "4a767f89",
   "metadata": {},
   "outputs": [],
   "source": [
    "if (False):\n",
    "    for layer in likelihood_nn.children():\n",
    "        if isinstance(layer, nn.Linear):\n",
    "            print(\"weight\", layer.state_dict()['weight'])\n",
    "            print(\"bias\", layer.state_dict()['bias'])"
   ]
  },
  {
   "cell_type": "markdown",
   "id": "472bf409",
   "metadata": {},
   "source": [
    "### Distributions for ELBO\n",
    "Can use the same distributions for factorized and amortized VI. For amorizted VI, the arguments `nu_mean_z` and `nu_sd_z` will be the output of the inference network. Note that the joint $p(x, \\theta, z)$ uses the known likelihood network."
   ]
  },
  {
   "cell_type": "code",
   "execution_count": 14,
   "id": "6d588f90",
   "metadata": {},
   "outputs": [],
   "source": [
    "def log_joint(x, theta, z):\n",
    "    f_mean = likelihood_nn.forward_mean(theta, z).reshape(n, 1)\n",
    "    f_sd = likelihood_nn.forward_sd(theta, z).reshape(n, 1)\n",
    "        \n",
    "    return -0.5 * torch.sum(z**2) - torch.sum(torch.div((x - f_mean)**2,\n",
    "                                              2 * torch.exp(f_sd)**2))\n",
    "\n",
    "def log_q(theta, z, nu_mean_theta, nu_sd_theta, nu_mean_z, nu_sd_z):\n",
    "    log_q_theta = - torch.log(nu_sd_theta) - 1 / (2 * nu_sd_theta**2)\\\n",
    "                    * (theta - nu_mean_theta)**2\n",
    "    log_q_z = torch.sum(- torch.log(nu_sd_z) - 1 / (2 * nu_sd_z**2) * (z - nu_mean_z)**2)\n",
    "    return log_q_theta + log_q_z"
   ]
  },
  {
   "cell_type": "markdown",
   "id": "5eb87eb3",
   "metadata": {},
   "source": [
    "### Model class for amortized VI"
   ]
  },
  {
   "cell_type": "code",
   "execution_count": 15,
   "id": "c4c9733b",
   "metadata": {},
   "outputs": [],
   "source": [
    "# Architecture for the inference network (for now stick to three layers.)\n",
    "inf_input_size = 1  # inference network only takes in x_i\n",
    "\n",
    "class MCElbo_AVI(torch.nn.Module):\n",
    "    def __init__(self, inf_nn_width):\n",
    "        super(MCElbo_AVI, self).__init__()\n",
    "\n",
    "        # variational parameters for q(theta) # ToDO: set initial value\n",
    "        self.nu_mean_theta = torch.nn.Parameter(torch.randn(1, 1), requires_grad = True)\n",
    "        self.nu_sd_theta_log = torch.nn.Parameter(torch.randn(1, 1), requires_grad = True)\n",
    "        \n",
    "        # define inference neural network for the mean\n",
    "        self.m1 = nn.Linear(inf_input_size, inf_nn_width)\n",
    "        self.m2 = nn.Linear(inf_nn_width, inf_nn_width)\n",
    "        self.m3 = nn.Linear(inf_nn_width, 1)\n",
    "        \n",
    "        # define inference neural network for the log sd\n",
    "        self.s1 = nn.Linear(inf_input_size, inf_nn_width)\n",
    "        self.s2 = nn.Linear(inf_nn_width, inf_nn_width)\n",
    "        self.s3 = nn.Linear(inf_nn_width, 1)\n",
    "\n",
    "        self.mc_samples = 10\n",
    "        \n",
    "    def forward_mean(self, x):\n",
    "        y = F.relu(self.m1(x))\n",
    "        y = F.relu(self.m2(y))\n",
    "        y = self.m3(y)\n",
    "        return y\n",
    "    \n",
    "    def forward_log_sd(self, x):\n",
    "        y = F.relu(self.s1(x))\n",
    "        y = F.relu(self.s2(y))\n",
    "        y = self.s3(y)\n",
    "        return y\n",
    "    \n",
    "    def generate_rand(self):\n",
    "        eps_theta = torch.randn((1, 1))\n",
    "        eps_z = torch.randn((n, 1))\n",
    "        return eps_theta, eps_z\n",
    "    \n",
    "    def reparam(self, eps_theta, eps_z, nu_mean_z, nu_sd_z):\n",
    "        return eps_theta.mul(torch.exp(self.nu_sd_theta_log)).add(self.nu_mean_theta),\\\n",
    "               eps_z.mul(nu_sd_z).add(nu_mean_z)\n",
    "\n",
    "    def compute_elbo_sample(self, nu_mean_z, nu_sd_z, x):\n",
    "        eps_theta, eps_z = self.generate_rand()\n",
    "        theta, z = self.reparam(eps_theta, eps_z, nu_mean_z, nu_sd_z)\n",
    "\n",
    "        Elbo = log_joint(x, theta, z) - log_q(theta, z,\n",
    "                           self.nu_mean_theta, torch.exp(self.nu_sd_theta_log),\n",
    "                           nu_mean_z, nu_sd_z)\n",
    "        return Elbo\n",
    "    \n",
    "    def compute_elbo(self, x):\n",
    "        nu_mean_z = self.forward_mean(x.reshape(n, 1))\n",
    "        nu_sd_z = torch.exp(self.forward_log_sd(x.reshape(n, 1)))\n",
    "        \n",
    "        Elbo_mean = self.compute_elbo_sample(nu_mean_z, nu_sd_z, x)\n",
    "        for i in range(1, self.mc_samples):\n",
    "            Elbo_mean = i * Elbo_mean / (i + 1) + self.compute_elbo_sample(nu_mean_z, nu_sd_z, x)\\\n",
    "                                                                                     / (i + 1)\n",
    "        return Elbo_mean\n",
    "    \n",
    "    # Additional function to create a common initialization with FVI\n",
    "    def FVI_param(self, x):\n",
    "        nu_mean_z = self.forward_mean(x.reshape(n, 1))\n",
    "        nu_sd_z = self.forward_log_sd(x.reshape(n, 1))\n",
    "        \n",
    "        return self.nu_mean_theta, self.nu_sd_theta_log, nu_mean_z, nu_sd_z\n"
   ]
  },
  {
   "cell_type": "markdown",
   "id": "25a7af5d",
   "metadata": {},
   "source": [
    "### Factorized VI"
   ]
  },
  {
   "cell_type": "code",
   "execution_count": 135,
   "id": "8f68028e",
   "metadata": {},
   "outputs": [],
   "source": [
    "# Initialize the weights and biases to 0.\n",
    "# This amounts to starting with all q(z_i)'s a standard Gaussian.\n",
    "def init_weights(m):\n",
    "    if isinstance(m, nn.Linear):\n",
    "        m.weight.data.fill_(0.01)\n",
    "        m.bias.data.fill_(0.01)\n"
   ]
  },
  {
   "cell_type": "code",
   "execution_count": 141,
   "id": "f855685c",
   "metadata": {},
   "outputs": [],
   "source": [
    "# Initialisation for FVI\n",
    "# Generate initial values for variational parameters and use them to initialize FVI.\n",
    "torch.manual_seed(1954)\n",
    "init_nn_width = 2\n",
    "model_av = MCElbo_AVI(init_nn_width)\n",
    "# model_av.apply(init_weights)\n",
    "\n",
    "# NOTE: by default, parameters of the inference NN are initialized at the same value,\n",
    "# which means the elements of nu_mean_z and nu_sd_z_log have the same starting value.\n",
    "nu_mean_theta_init, nu_sd_theta_log_init, nu_mean_z, nu_sd_z = model_av.FVI_param(x)\n",
    "nu_mean_z_init = nu_mean_z.reshape(n, 1)\n",
    "nu_sd_z_log_init = nu_sd_z.reshape(n, 1)\n"
   ]
  },
  {
   "cell_type": "code",
   "execution_count": 142,
   "id": "a2cab152",
   "metadata": {},
   "outputs": [],
   "source": [
    "class MCElbo_meanfield(nn.Module):\n",
    "    def __init__(self):\n",
    "        super(MCElbo_meanfield, self).__init__()\n",
    "\n",
    "        # Use common initialization\n",
    "        self.nu_mean_theta = torch.nn.Parameter(nu_mean_theta_init, requires_grad = True)\n",
    "        self.nu_sd_theta_log = torch.nn.Parameter(nu_sd_theta_log_init, requires_grad = True)\n",
    "        self.nu_mean_z = torch.nn.Parameter(nu_mean_z_init, requires_grad = True)\n",
    "        self.nu_sd_z_log = torch.nn.Parameter(nu_sd_z_log_init, requires_grad = True)\n",
    "\n",
    "        self.mc_samples = 10\n",
    "\n",
    "    def generate_rand(self):\n",
    "        eps_theta = np.random.normal(size = (1, 1))\n",
    "        eps_z = np.random.normal(size = (n, 1))\n",
    "        \n",
    "        return eps_theta, eps_z\n",
    "\n",
    "    def reparam(self, eps_theta, eps_z):\n",
    "        eps_theta = Variable(torch.FloatTensor(eps_theta))\n",
    "        eps_z = Variable(torch.FloatTensor(eps_z))\n",
    "        return eps_theta.mul(torch.exp(self.nu_sd_theta_log)).add(self.nu_mean_theta),\\\n",
    "               eps_z.mul(torch.exp(self.nu_sd_z_log)).add(self.nu_mean_z)\n",
    "    \n",
    "    def compute_elbo_sample(self, x):\n",
    "        eps_theta, eps_z = self.generate_rand()\n",
    "        theta, z = self.reparam(eps_theta, eps_z)\n",
    "\n",
    "        # Compute Elbo integrand using mc_samples draws\n",
    "        Elbo = log_joint(x, theta, z)\\\n",
    "                   - log_q(theta, z,\n",
    "                           self.nu_mean_theta, torch.exp(self.nu_sd_theta_log),\n",
    "                           self.nu_mean_z, torch.exp(self.nu_sd_z_log))\n",
    "\n",
    "        return Elbo\n",
    "    \n",
    "    def compute_elbo(self, x):       \n",
    "        Elbo_mean = self.compute_elbo_sample(x)\n",
    "        for i in range(1, self.mc_samples):\n",
    "            Elbo_mean = i * Elbo_mean / (i + 1) + self.compute_elbo_sample(x) / (i + 1)\n",
    "\n",
    "        return Elbo_mean  \n"
   ]
  },
  {
   "cell_type": "code",
   "execution_count": 143,
   "id": "cb00c3fd",
   "metadata": {},
   "outputs": [
    {
     "name": "stdout",
     "output_type": "stream",
     "text": [
      "loss (FVI):  tensor([[-657795.3125]], grad_fn=<AddBackward0>)\n",
      "-----\n",
      "loss (AVI):  tensor([[-696516.8750]], grad_fn=<AddBackward0>)\n"
     ]
    }
   ],
   "source": [
    "# Sanity check: make sure both models return the same ELBO (within Monte Carlo error)\n",
    "model = MCElbo_meanfield()\n",
    "print(\"loss (FVI): \", model.compute_elbo(x))\n",
    "print(\"-----\")\n",
    "print(\"loss (AVI): \", model_av.compute_elbo(x))"
   ]
  },
  {
   "cell_type": "code",
   "execution_count": 144,
   "id": "9d4935c8",
   "metadata": {},
   "outputs": [
    {
     "name": "stderr",
     "output_type": "stream",
     "text": [
      "<ipython-input-144-a5ee7eb7a154>:2: UserWarning: To copy construct from a tensor, it is recommended to use sourceTensor.clone().detach() or sourceTensor.clone().detach().requires_grad_(True), rather than torch.tensor(sourceTensor).\n",
      "  x_torch = Variable(torch.tensor(x), requires_grad = False)\n"
     ]
    },
    {
     "name": "stdout",
     "output_type": "stream",
     "text": [
      "loss [[679322.9]]\n",
      "[[0.32128695]] [[2.0042746]]\n",
      "loss [[77656.555]]\n",
      "[[2.9605227]] [[0.46549883]]\n",
      "loss [[41964.22]]\n",
      "[[1.5566299]] [[0.29137334]]\n",
      "loss [[35308.69]]\n",
      "[[1.0637325]] [[0.19629453]]\n",
      "loss [[33557.137]]\n",
      "[[1.0800864]] [[0.14161436]]\n",
      "loss [[33229.543]]\n",
      "[[1.0968407]] [[0.10567477]]\n",
      "loss [[33139.98]]\n",
      "[[1.0976204]] [[0.08076167]]\n",
      "loss [[33132.812]]\n",
      "[[1.0994636]] [[0.06247125]]\n",
      "loss [[33115.797]]\n",
      "[[1.0857769]] [[0.04887917]]\n",
      "loss [[33121.227]]\n",
      "[[1.0910693]] [[0.038866]]\n",
      "loss [[33110.375]]\n",
      "[[1.093113]] [[0.03152919]]\n",
      "loss [[33113.64]]\n",
      "[[1.0855223]] [[0.02623697]]\n",
      "loss [[33106.72]]\n",
      "[[1.0954833]] [[0.0228243]]\n",
      "loss [[33089.695]]\n",
      "[[1.0848533]] [[0.02081224]]\n",
      "loss [[33109.016]]\n",
      "[[1.0916249]] [[0.01990989]]\n",
      "loss [[33099.25]]\n",
      "[[1.0919243]] [[0.0198657]]\n",
      "loss [[33112.23]]\n",
      "[[1.094371]] [[0.01943142]]\n",
      "loss [[33114.062]]\n",
      "[[1.0926062]] [[0.01987766]]\n",
      "loss [[33098.566]]\n",
      "[[1.0816594]] [[0.02006174]]\n",
      "loss [[33116.29]]\n",
      "[[1.1022004]] [[0.02015166]]\n"
     ]
    }
   ],
   "source": [
    "optimizer = torch.optim.Adam(model.parameters(), lr = 1e-2)  # 1e-2\n",
    "x_torch = Variable(torch.tensor(x), requires_grad = False)\n",
    "\n",
    "n_iter_optimizer = int(20e3)\n",
    "loss_saved = np.empty((n_iter_optimizer,))\n",
    "\n",
    "for i in range(n_iter_optimizer):\n",
    "    loss = - model.compute_elbo(x_torch)\n",
    "    optimizer.zero_grad()\n",
    "    loss.backward()\n",
    "    optimizer.step()\n",
    "    loss_saved[i] = loss.data.numpy()\n",
    "    if i % 1000  == 0:\n",
    "        # for now, only keep track of the variational parameters of theta\n",
    "        print(\"loss\", loss.data.numpy())\n",
    "        print(model.nu_mean_theta.data.numpy(), torch.exp(model.nu_sd_theta_log).data.numpy())\n"
   ]
  },
  {
   "cell_type": "code",
   "execution_count": 145,
   "id": "48a72353",
   "metadata": {},
   "outputs": [
    {
     "name": "stdout",
     "output_type": "stream",
     "text": [
      "loss [[33100.863]]\n",
      "[[1.082445]] [[0.02105705]]\n"
     ]
    },
    {
     "data": {
      "text/plain": [
       "[<matplotlib.lines.Line2D at 0x155be3d90>]"
      ]
     },
     "execution_count": 145,
     "metadata": {},
     "output_type": "execute_result"
    },
    {
     "data": {
      "image/png": "[encoded data removed]",
      "text/plain": [
       "<Figure size 432x288 with 1 Axes>"
      ]
     },
     "metadata": {},
     "output_type": "display_data"
    }
   ],
   "source": [
    "# Get final result from training model\n",
    "print(\"loss\", loss.data.numpy())\n",
    "mf_mean_theta = model.nu_mean_theta.data.numpy()\n",
    "mf_sd_theta = torch.exp(model.nu_sd_theta_log).data.numpy()\n",
    "print(mf_mean_theta, mf_sd_theta)\n",
    "\n",
    "plt.plot(loss_saved)"
   ]
  },
  {
   "cell_type": "markdown",
   "id": "97aa18b4",
   "metadata": {},
   "source": [
    "### Amortized VI"
   ]
  },
  {
   "cell_type": "code",
   "execution_count": 80,
   "id": "a38a7b4e",
   "metadata": {},
   "outputs": [
    {
     "data": {
      "text/plain": [
       "True"
      ]
     },
     "execution_count": 80,
     "metadata": {},
     "output_type": "execute_result"
    }
   ],
   "source": [
    "0 % 1000 == 0"
   ]
  },
  {
   "cell_type": "code",
   "execution_count": 117,
   "id": "c04761d4",
   "metadata": {},
   "outputs": [],
   "source": [
    "def run_avi(inf_nn_width, seed, n_iter_optimizer):\n",
    "    torch.manual_seed(seed)\n",
    "    model_av = MCElbo_AVI(inf_nn_width)\n",
    "    # model_av.apply(init_weights)\n",
    "    \n",
    "    optimizer = torch.optim.Adam(model_av.parameters(), lr = 1e-2)\n",
    "    \n",
    "    loss_av_saved = np.empty(n_iter_optimizer)\n",
    "    for i in range(n_iter_optimizer):\n",
    "        loss_av = - model_av.compute_elbo(x_torch)\n",
    "        optimizer.zero_grad()\n",
    "        loss_av.backward()\n",
    "        optimizer.step()\n",
    "        loss_av_saved[i] = loss_av\n",
    "        if i % 1000 == 0:\n",
    "            print(\"loss\", loss_av.data.numpy())\n",
    "    return loss_av_saved"
   ]
  },
  {
   "cell_type": "code",
   "execution_count": 122,
   "id": "72712302",
   "metadata": {},
   "outputs": [
    {
     "name": "stdout",
     "output_type": "stream",
     "text": [
      "loss [[260162.47]]\n",
      "loss [[37396.883]]\n",
      "loss [[37355.348]]\n",
      "loss [[37274.875]]\n",
      "loss [[37230.168]]\n",
      "loss [[37150.48]]\n",
      "loss [[37219.484]]\n",
      "loss [[37225.676]]\n",
      "loss [[37262.85]]\n",
      "loss [[37261.406]]\n",
      "loss [[37235.145]]\n",
      "loss [[37204.77]]\n",
      "loss [[37230.062]]\n",
      "loss [[37232.676]]\n",
      "loss [[37264.47]]\n",
      "loss [[37254.91]]\n",
      "loss [[37247.773]]\n",
      "loss [[37233.848]]\n",
      "loss [[37149.875]]\n",
      "loss [[37329.207]]\n",
      "loss [[696516.9]]\n",
      "loss [[34490.7]]\n",
      "loss [[34260.37]]\n",
      "loss [[34281.527]]\n",
      "loss [[34243.73]]\n",
      "loss [[34277.68]]\n",
      "loss [[34199.35]]\n",
      "loss [[34234.63]]\n",
      "loss [[34215.527]]\n",
      "loss [[34217.414]]\n",
      "loss [[34219.07]]\n",
      "loss [[34200.113]]\n",
      "loss [[34251.25]]\n",
      "loss [[34203.844]]\n",
      "loss [[34231.746]]\n",
      "loss [[34246.62]]\n",
      "loss [[34212.316]]\n",
      "loss [[34242.52]]\n",
      "loss [[34197.426]]\n",
      "loss [[34232.45]]\n",
      "loss [[981180.6]]\n",
      "loss [[69284.5]]\n",
      "loss [[69431.81]]\n",
      "loss [[69453.67]]\n",
      "loss [[69118.67]]\n",
      "loss [[69302.484]]\n",
      "loss [[69106.81]]\n",
      "loss [[69396.83]]\n",
      "loss [[45798.414]]\n",
      "loss [[43748.6]]\n",
      "loss [[55428.914]]\n",
      "loss [[54187.254]]\n",
      "loss [[53683.156]]\n",
      "loss [[36161.133]]\n",
      "loss [[35590.098]]\n",
      "loss [[35452.977]]\n",
      "loss [[35422.98]]\n",
      "loss [[35369.582]]\n",
      "loss [[35434.914]]\n",
      "loss [[35321.668]]\n",
      "loss [[647831.1]]\n",
      "loss [[33471.105]]\n",
      "loss [[33371.758]]\n",
      "loss [[33309.6]]\n",
      "loss [[33281.418]]\n",
      "loss [[33251.82]]\n",
      "loss [[33253.81]]\n",
      "loss [[33254.895]]\n",
      "loss [[33275.227]]\n",
      "loss [[33274.324]]\n",
      "loss [[33266.04]]\n",
      "loss [[33117.906]]\n",
      "loss [[33106.027]]\n",
      "loss [[33082.008]]\n",
      "loss [[33068.516]]\n",
      "loss [[33073.945]]\n",
      "loss [[33048.695]]\n",
      "loss [[33043.848]]\n",
      "loss [[33067.89]]\n",
      "loss [[33040.895]]\n",
      "loss [[909544.25]]\n",
      "loss [[33466.44]]\n",
      "loss [[33268.16]]\n",
      "loss [[33247.816]]\n",
      "loss [[33232.41]]\n",
      "loss [[33234.406]]\n",
      "loss [[33240.73]]\n",
      "loss [[33220.805]]\n",
      "loss [[33194.863]]\n",
      "loss [[33084.027]]\n",
      "loss [[33062.1]]\n",
      "loss [[33064.094]]\n",
      "loss [[33072.57]]\n",
      "loss [[33081.38]]\n",
      "loss [[33086.992]]\n",
      "loss [[33067.465]]\n",
      "loss [[33050.207]]\n",
      "loss [[33024.93]]\n",
      "loss [[33070.543]]\n",
      "loss [[33047.203]]\n",
      "loss [[252814.23]]\n",
      "loss [[33132.22]]\n",
      "loss [[33127.594]]\n",
      "loss [[33062.26]]\n",
      "loss [[33087.785]]\n",
      "loss [[33040.668]]\n",
      "loss [[33053.387]]\n",
      "loss [[33080.105]]\n",
      "loss [[33060.43]]\n",
      "loss [[33046.3]]\n",
      "loss [[33076.785]]\n",
      "loss [[33068.29]]\n",
      "loss [[33066.332]]\n",
      "loss [[33070.133]]\n",
      "loss [[33053.82]]\n",
      "loss [[33069.527]]\n",
      "loss [[33034.266]]\n",
      "loss [[33047.906]]\n",
      "loss [[33067.766]]\n",
      "loss [[33031.637]]\n"
     ]
    }
   ],
   "source": [
    "seed = 1954\n",
    "n_iter_optimizer = int(20e3)\n",
    "\n",
    "loss_av_1_saved = run_avi(1, seed , n_iter_optimizer)\n",
    "loss_av_2_saved = run_avi(2, seed, n_iter_optimizer)\n",
    "loss_av_4_saved = run_avi(4, seed , n_iter_optimizer)\n",
    "loss_av_8_saved = run_avi(8, seed, n_iter_optimizer)\n",
    "loss_av_16_saved = run_avi(16, seed , n_iter_optimizer)\n",
    "loss_av_24_saved = run_avi(24, seed, n_iter_optimizer)\n",
    "# etc."
   ]
  },
  {
   "cell_type": "code",
   "execution_count": 152,
   "id": "ccebf396",
   "metadata": {},
   "outputs": [
    {
     "name": "stdout",
     "output_type": "stream",
     "text": [
      "loss [[330519.75]]\n",
      "loss [[nan]]\n",
      "loss [[nan]]\n",
      "loss [[nan]]\n",
      "loss [[nan]]\n"
     ]
    },
    {
     "ename": "KeyboardInterrupt",
     "evalue": "",
     "output_type": "error",
     "traceback": [
      "\u001b[0;31m---------------------------------------------------------------------------\u001b[0m",
      "\u001b[0;31mKeyboardInterrupt\u001b[0m                         Traceback (most recent call last)",
      "\u001b[0;32m<ipython-input-152-f79c3e5cc95b>\u001b[0m in \u001b[0;36m<module>\u001b[0;34m\u001b[0m\n\u001b[0;32m----> 1\u001b[0;31m \u001b[0mloss_av_32_saved\u001b[0m \u001b[0;34m=\u001b[0m \u001b[0mrun_avi\u001b[0m\u001b[0;34m(\u001b[0m\u001b[0;36m32\u001b[0m\u001b[0;34m,\u001b[0m \u001b[0mseed\u001b[0m\u001b[0;34m,\u001b[0m \u001b[0mn_iter_optimizer\u001b[0m\u001b[0;34m)\u001b[0m\u001b[0;34m\u001b[0m\u001b[0;34m\u001b[0m\u001b[0m\n\u001b[0m",
      "\u001b[0;32m<ipython-input-117-b3a36fb8c94e>\u001b[0m in \u001b[0;36mrun_avi\u001b[0;34m(inf_nn_width, seed, n_iter_optimizer)\u001b[0m\n\u001b[1;32m     10\u001b[0m         \u001b[0mloss_av\u001b[0m \u001b[0;34m=\u001b[0m \u001b[0;34m-\u001b[0m \u001b[0mmodel_av\u001b[0m\u001b[0;34m.\u001b[0m\u001b[0mcompute_elbo\u001b[0m\u001b[0;34m(\u001b[0m\u001b[0mx_torch\u001b[0m\u001b[0;34m)\u001b[0m\u001b[0;34m\u001b[0m\u001b[0;34m\u001b[0m\u001b[0m\n\u001b[1;32m     11\u001b[0m         \u001b[0moptimizer\u001b[0m\u001b[0;34m.\u001b[0m\u001b[0mzero_grad\u001b[0m\u001b[0;34m(\u001b[0m\u001b[0;34m)\u001b[0m\u001b[0;34m\u001b[0m\u001b[0;34m\u001b[0m\u001b[0m\n\u001b[0;32m---> 12\u001b[0;31m         \u001b[0mloss_av\u001b[0m\u001b[0;34m.\u001b[0m\u001b[0mbackward\u001b[0m\u001b[0;34m(\u001b[0m\u001b[0;34m)\u001b[0m\u001b[0;34m\u001b[0m\u001b[0;34m\u001b[0m\u001b[0m\n\u001b[0m\u001b[1;32m     13\u001b[0m         \u001b[0moptimizer\u001b[0m\u001b[0;34m.\u001b[0m\u001b[0mstep\u001b[0m\u001b[0;34m(\u001b[0m\u001b[0;34m)\u001b[0m\u001b[0;34m\u001b[0m\u001b[0;34m\u001b[0m\u001b[0m\n\u001b[1;32m     14\u001b[0m         \u001b[0mloss_av_saved\u001b[0m\u001b[0;34m[\u001b[0m\u001b[0mi\u001b[0m\u001b[0;34m]\u001b[0m \u001b[0;34m=\u001b[0m \u001b[0mloss_av\u001b[0m\u001b[0;34m\u001b[0m\u001b[0;34m\u001b[0m\u001b[0m\n",
      "\u001b[0;32m/Library/Frameworks/Python.framework/Versions/3.8/lib/python3.8/site-packages/torch/_tensor.py\u001b[0m in \u001b[0;36mbackward\u001b[0;34m(self, gradient, retain_graph, create_graph, inputs)\u001b[0m\n\u001b[1;32m    394\u001b[0m                 \u001b[0mcreate_graph\u001b[0m\u001b[0;34m=\u001b[0m\u001b[0mcreate_graph\u001b[0m\u001b[0;34m,\u001b[0m\u001b[0;34m\u001b[0m\u001b[0;34m\u001b[0m\u001b[0m\n\u001b[1;32m    395\u001b[0m                 inputs=inputs)\n\u001b[0;32m--> 396\u001b[0;31m         \u001b[0mtorch\u001b[0m\u001b[0;34m.\u001b[0m\u001b[0mautograd\u001b[0m\u001b[0;34m.\u001b[0m\u001b[0mbackward\u001b[0m\u001b[0;34m(\u001b[0m\u001b[0mself\u001b[0m\u001b[0;34m,\u001b[0m \u001b[0mgradient\u001b[0m\u001b[0;34m,\u001b[0m \u001b[0mretain_graph\u001b[0m\u001b[0;34m,\u001b[0m \u001b[0mcreate_graph\u001b[0m\u001b[0;34m,\u001b[0m \u001b[0minputs\u001b[0m\u001b[0;34m=\u001b[0m\u001b[0minputs\u001b[0m\u001b[0;34m)\u001b[0m\u001b[0;34m\u001b[0m\u001b[0;34m\u001b[0m\u001b[0m\n\u001b[0m\u001b[1;32m    397\u001b[0m \u001b[0;34m\u001b[0m\u001b[0m\n\u001b[1;32m    398\u001b[0m     \u001b[0;32mdef\u001b[0m \u001b[0mregister_hook\u001b[0m\u001b[0;34m(\u001b[0m\u001b[0mself\u001b[0m\u001b[0;34m,\u001b[0m \u001b[0mhook\u001b[0m\u001b[0;34m)\u001b[0m\u001b[0;34m:\u001b[0m\u001b[0;34m\u001b[0m\u001b[0;34m\u001b[0m\u001b[0m\n",
      "\u001b[0;32m/Library/Frameworks/Python.framework/Versions/3.8/lib/python3.8/site-packages/torch/autograd/__init__.py\u001b[0m in \u001b[0;36mbackward\u001b[0;34m(tensors, grad_tensors, retain_graph, create_graph, grad_variables, inputs)\u001b[0m\n\u001b[1;32m    171\u001b[0m     \u001b[0;31m# some Python versions print out the first line of a multi-line function\u001b[0m\u001b[0;34m\u001b[0m\u001b[0;34m\u001b[0m\u001b[0;34m\u001b[0m\u001b[0m\n\u001b[1;32m    172\u001b[0m     \u001b[0;31m# calls in the traceback and some print out the last line\u001b[0m\u001b[0;34m\u001b[0m\u001b[0;34m\u001b[0m\u001b[0;34m\u001b[0m\u001b[0m\n\u001b[0;32m--> 173\u001b[0;31m     Variable._execution_engine.run_backward(  # Calls into the C++ engine to run the backward pass\n\u001b[0m\u001b[1;32m    174\u001b[0m         \u001b[0mtensors\u001b[0m\u001b[0;34m,\u001b[0m \u001b[0mgrad_tensors_\u001b[0m\u001b[0;34m,\u001b[0m \u001b[0mretain_graph\u001b[0m\u001b[0;34m,\u001b[0m \u001b[0mcreate_graph\u001b[0m\u001b[0;34m,\u001b[0m \u001b[0minputs\u001b[0m\u001b[0;34m,\u001b[0m\u001b[0;34m\u001b[0m\u001b[0;34m\u001b[0m\u001b[0m\n\u001b[1;32m    175\u001b[0m         allow_unreachable=True, accumulate_grad=True)  # Calls into the C++ engine to run the backward pass\n",
      "\u001b[0;31mKeyboardInterrupt\u001b[0m: "
     ]
    }
   ],
   "source": [
    "loss_av_32_saved = run_avi(32, seed, n_iter_optimizer)"
   ]
  },
  {
   "cell_type": "code",
   "execution_count": 150,
   "id": "3422fcde",
   "metadata": {},
   "outputs": [
    {
     "name": "stderr",
     "output_type": "stream",
     "text": [
      "<ipython-input-150-8260118e432b>:18: MatplotlibDeprecationWarning: Adding an axes using the same arguments as a previous axes currently reuses the earlier instance.  In a future version, a new instance will always be created and returned.  Meanwhile, this warning can be suppressed, and the future behavior ensured, by passing a unique label to each axes instance.\n",
      "  ax = plt.axes()\n"
     ]
    },
    {
     "data": {
      "image/png": "[encoded data removed]",
      "text/plain": [
       "<Figure size 432x288 with 1 Axes>"
      ]
     },
     "metadata": {},
     "output_type": "display_data"
    }
   ],
   "source": [
    "plt.plot(loss_saved, label = 'FVI', alpha = 0.5)\n",
    "plt.plot(loss_av_1_saved, label = 'k = 1', alpha = 0.5)\n",
    "plt.plot(loss_av_2_saved, label = 'k = 2', alpha = 0.5)\n",
    "# plt.plot(loss_av_4_saved, label = 'k = 4', alpha = 0.5)\n",
    "plt.plot(loss_av_8_saved, label = 'k = 8', alpha = 0.5)\n",
    "plt.plot(loss_av_16_saved, label = 'k = 16', alpha = 0.5)\n",
    "# plt.plot(loss_av_24_saved, label = 'k = 24', alpha = 0.5)\n",
    "plt.yscale(\"log\")\n",
    "plt.xscale(\"log\")\n",
    "plt.legend(loc = \"best\")\n",
    "plt.title(\"Elbo, n = \" + str(n))\n",
    "ax = plt.gca()\n",
    "#ax.set_ylim([32000, 130000])\n",
    "plt.title(\"Deep model\")\n",
    "plt.xlabel(\"Iteration\")\n",
    "plt.ylabel(\"Elbo\")\n",
    "\n",
    "ax = plt.axes()\n",
    "ax.set_facecolor(\"white\")\n",
    "plt.savefig(\"to_discuss/elbo_deep.pdf\")\n",
    "plt.show()\n"
   ]
  },
  {
   "cell_type": "code",
   "execution_count": 151,
   "id": "0e1b1f5f",
   "metadata": {},
   "outputs": [
    {
     "name": "stdout",
     "output_type": "stream",
     "text": [
      "FVI:  33306.768828125  +/-  36.37693370335052\n",
      "k = 1:  37245.16447265625  +/-  48.31879346496577\n",
      "k = 2:  34240.2598828125  +/-  20.800134349939302\n",
      "k = 8:  33274.66951171875  +/-  16.97072570605686\n",
      "k = 16:  33236.5179296875  +/-  14.173722887801324\n",
      "k = 24:  33071.723515625  +/-  14.220643467032534\n"
     ]
    }
   ],
   "source": [
    "# Get asymptotic ELBO\n",
    "index_center = 4500\n",
    "window = 100\n",
    "print(\"FVI: \", mean_window(loss_saved, 4500, window), \" +/- \",\n",
    "     sd_window(loss_saved, 4500, window))\n",
    "print(\"k = 1: \", mean_window(loss_av_1_saved, 4500, window), \" +/- \",\n",
    "     sd_window(loss_av_1_saved, 4500, window))\n",
    "print(\"k = 2: \", mean_window(loss_av_2_saved, 4500, window), \" +/- \",\n",
    "     sd_window(loss_av_2_saved, 4500, window))\n",
    "print(\"k = 8: \", mean_window(loss_av_8_saved, 4500, window), \" +/- \",\n",
    "     sd_window(loss_av_8_saved, 4500, window))\n",
    "print(\"k = 16: \", mean_window(loss_av_16_saved, 4500, window), \" +/- \",\n",
    "     sd_window(loss_av_16_saved, 4500, window))\n",
    "print(\"k = 24: \", mean_window(loss_av_24_saved, 4500, window), \" +/- \",\n",
    "     sd_window(loss_av_24_saved, 4500, window))"
   ]
  },
  {
   "cell_type": "code",
   "execution_count": 26,
   "id": "dd47e556",
   "metadata": {},
   "outputs": [
    {
     "name": "stdout",
     "output_type": "stream",
     "text": [
      "14427.575244140626\n",
      "10.01549769411398\n",
      "14401.196826171876\n",
      "14.69895580331285\n"
     ]
    }
   ],
   "source": [
    "index_center = 4500\n",
    "window = 10\n",
    "print(np.mean(loss_saved[(index_center - window):(index_center + window)]))\n",
    "print(np.std(loss_saved[(index_center - window):(index_center + window)]))\n",
    "\n",
    "print(np.mean(loss_av_saved[(index_center - window):(index_center + window)]))\n",
    "print(np.std(loss_av_saved[(index_center - window):(index_center + window)]))"
   ]
  },
  {
   "cell_type": "code",
   "execution_count": 1,
   "id": "56aba3b0",
   "metadata": {},
   "outputs": [],
   "source": [
    "def mean_window(loss, index_center, window):\n",
    "    return np.mean(loss[(index_center - window):(index_center + window)])\n",
    "\n",
    "def sd_window(loss, index_center, window):\n",
    "    return np.std(loss[(index_center - window):(index_center + window)]) "
   ]
  },
  {
   "cell_type": "code",
   "execution_count": 49,
   "id": "0979d3e1",
   "metadata": {},
   "outputs": [],
   "source": [
    "FVI = [mean_window(loss_saved, 100, 10),\n",
    "      mean_window(loss_saved, 1000, 10),\n",
    "      mean_window(loss_saved, 4500, 10)]\n",
    "\n",
    "FVI_err = [sd_window(loss_saved, 100, 10),\n",
    "          sd_window(loss_saved, 1000, 10),\n",
    "          sd_window(loss_saved, 4500, 10)]\n",
    "\n",
    "AVI = [mean_window(loss_av_saved, 100, 10),\n",
    "      mean_window(loss_av_saved, 1000, 10),\n",
    "      mean_window(loss_av_saved, 4500, 10)]\n",
    "\n",
    "AVI_err = [sd_window(loss_av_saved, 100, 10),\n",
    "          sd_window(loss_av_saved, 1000, 10),\n",
    "          sd_window(loss_av_saved, 4500, 10)]"
   ]
  },
  {
   "cell_type": "code",
   "execution_count": 58,
   "id": "6f183108",
   "metadata": {},
   "outputs": [
    {
     "name": "stdout",
     "output_type": "stream",
     "text": [
      "FVI:  [17447.890625, 14440.43642578125, 14427.575244140626]\n",
      "AVI: [15262.216162109375, 14630.1435546875, 14401.196826171876]\n"
     ]
    }
   ],
   "source": [
    "print(\"FVI: \", FVI)\n",
    "print(\"AVI:\", AVI)"
   ]
  },
  {
   "cell_type": "code",
   "execution_count": 60,
   "id": "4ff69127",
   "metadata": {},
   "outputs": [
    {
     "data": {
      "text/plain": [
       "<matplotlib.legend.Legend at 0x159f794f0>"
      ]
     },
     "execution_count": 60,
     "metadata": {},
     "output_type": "execute_result"
    },
    {
     "data": {
      "image/png": "[encoded data removed]",
      "text/plain": [
       "<Figure size 576x288 with 1 Axes>"
      ]
     },
     "metadata": {},
     "output_type": "display_data"
    }
   ],
   "source": [
    "barWidth = 0.25\n",
    "fig = plt.subplots(figsize = (8, 4))\n",
    "\n",
    "br1 = np.arange(len(FVI))\n",
    "br2 = [x + barWidth for x in br1]\n",
    "\n",
    "plt.bar(br2, AVI, width = barWidth, edgecolor = 'black', yerr = AVI_err, label = 'AVI')\n",
    "plt.bar(br1, FVI, width = barWidth, edgecolor = 'black', yerr = FVI_err, label = 'FVI')\n",
    "plt.legend()"
   ]
  },
  {
   "cell_type": "code",
   "execution_count": null,
   "id": "721f489a",
   "metadata": {},
   "outputs": [],
   "source": []
  }
 ],
 "metadata": {
  "kernelspec": {
   "display_name": "Python 3",
   "language": "python",
   "name": "python3"
  },
  "language_info": {
   "codemirror_mode": {
    "name": "ipython",
    "version": 3
   },
   "file_extension": ".py",
   "mimetype": "text/x-python",
   "name": "python",
   "nbconvert_exporter": "python",
   "pygments_lexer": "ipython3",
   "version": "3.8.8"
  }
 },
 "nbformat": 4,
 "nbformat_minor": 5
}
