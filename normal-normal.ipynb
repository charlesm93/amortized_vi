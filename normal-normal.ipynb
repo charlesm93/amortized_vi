{
 "cells": [
  {
   "cell_type": "code",
   "execution_count": 213,
   "id": "ef3816a5",
   "metadata": {},
   "outputs": [],
   "source": [
    "import numpy as np\n",
    "import torch\n",
    "import matplotlib.pyplot as plt\n",
    "from torch.autograd import Variable\n",
    "%matplotlib inline\n",
    "plt.style.use('ggplot')\n",
    "\n",
    "# from plots at the end -- TODO: try doing this only with PyTorch.\n",
    "from scipy.stats import norm\n",
    "\n",
    "import time"
   ]
  },
  {
   "cell_type": "code",
   "execution_count": 44,
   "id": "452a1fcf",
   "metadata": {},
   "outputs": [],
   "source": [
    "# Check if GPU is available\n",
    "# !nvidia-smi\n",
    "# print(torch.cuda.current_device())\n",
    "# print(torch.cuda.device_count())\n",
    "# print(torch.cuda.get_device_name(0))\n",
    "\n",
    "# device = torch.device('cuda' if torch.cuda.is_available() else 'cpu')\n",
    "# print('Using device:', device)\n",
    "# print()\n",
    "# torch.cuda.is_available()"
   ]
  },
  {
   "cell_type": "code",
   "execution_count": 3,
   "id": "1fa6fd43",
   "metadata": {},
   "outputs": [],
   "source": [
    "device = torch.device(\"cuda:0\" if torch.cuda.is_available() else \"cpu\")"
   ]
  },
  {
   "cell_type": "code",
   "execution_count": 110,
   "id": "d3b16660",
   "metadata": {},
   "outputs": [],
   "source": [
    "seed = 2001  # tried seed: 1954, 1955, 1789"
   ]
  },
  {
   "cell_type": "markdown",
   "id": "9a789983",
   "metadata": {},
   "source": [
    "## Normal-normal model\n",
    "We start with a normal model,\n",
    "\\begin{eqnarray*}\n",
    "  p(\\theta) & \\propto & 1, \\\\\n",
    "  p(z_i) & = & \\text{normal}(0, 1), \\\\\n",
    "  \\Omega_\\mu (z_i, \\theta) & = & \\theta + \\tau z_i, \\\\\n",
    "  p(x_i \\mid z_i, \\theta) & = & \\text{normal}(\\Omega_\\mu(z_i, \\theta), \\sigma^2),\n",
    "\\end{eqnarray*}\n",
    "with latent variables $(\\theta, z_{1:n})$. This model admits a (non-trivial) analytical expression for the posterior distribution, which is a multivariate Gaussian."
   ]
  },
  {
   "cell_type": "code",
   "execution_count": 111,
   "id": "01bc22c1",
   "metadata": {},
   "outputs": [],
   "source": [
    "# Generate observations from a hierarchical normal-normal model.\n",
    "n = 10000\n",
    "tau = 1.155\n",
    "sigma = 2.43\n",
    "x = np.random.normal(size = (n, 1), scale = np.sqrt(tau**2 + sigma**2))"
   ]
  },
  {
   "cell_type": "markdown",
   "id": "86f47588",
   "metadata": {},
   "source": [
    "To make fair comparisons between different VI, we pick starting values for the variational parameters, such that all methods start with the same initial ELBO."
   ]
  },
  {
   "cell_type": "code",
   "execution_count": 324,
   "id": "99c742cb",
   "metadata": {},
   "outputs": [],
   "source": [
    "def vi_init(seed, lock_init = True):\n",
    "    # NOTE: it seems torch \"updates\" these values once they're passed to a model,\n",
    "    # so we need to generate the inits multiple times (with the same seed)\n",
    "    torch.manual_seed(seed)\n",
    "    nu_mean_theta = torch.randn(1)\n",
    "    nu_sd_theta_log = torch.randn(1)\n",
    "    alpha0 = torch.zeros(1)  # torch.randn(1)  # torch.zeros((1, 1))\n",
    "    alpha = torch.zeros(1)   # torch.randn(1)   # torch.zeros((1, 1))\n",
    "    xi_log = torch.zeros(1)  # torch.randn(1)  # torch.zeros((1, 1))\n",
    "\n",
    "    if (lock_init):\n",
    "        nu_mean_z = (alpha0 + alpha * x).reshape(n)\n",
    "        nu_sd_z_log = xi_log.repeat(n)\n",
    "    else:\n",
    "        nu_mean_z = torch.rand(n)\n",
    "        nu_sd_z_log = torch.rand(n)\n",
    "    \n",
    "    return nu_mean_theta, nu_sd_theta_log, alpha0, alpha, nu_mean_z, nu_sd_z_log, xi_log\n"
   ]
  },
  {
   "cell_type": "markdown",
   "id": "81401f17",
   "metadata": {},
   "source": [
    "Define distributions to estimate the ELBO."
   ]
  },
  {
   "cell_type": "code",
   "execution_count": 274,
   "id": "79704a92",
   "metadata": {},
   "outputs": [],
   "source": [
    "# Not vectorized, simpler version (i.e. assume only one Monte Carlo estimator)\n",
    "def log_joint(x, theta, z):\n",
    "    return -0.5 * torch.sum(z**2) - 1 / (2 * sigma**2)\\\n",
    "              * torch.sum((x - theta - tau * z)**2)\n",
    "\n",
    "def log_q(theta, z, nu_mean_theta, nu_sd_theta, nu_mean_z, nu_sd_z):\n",
    "    log_q_theta = - torch.log(nu_sd_theta) - 1 / (2 * nu_sd_theta**2)\\\n",
    "                    * (theta - nu_mean_theta)**2\n",
    "    log_q_z = torch.sum(- torch.log(nu_sd_z) - 1 / (2 * nu_sd_z**2) * (z - nu_mean_z)**2)\n",
    "    return log_q_theta + log_q_z"
   ]
  },
  {
   "cell_type": "code",
   "execution_count": 275,
   "id": "823d4c43",
   "metadata": {},
   "outputs": [],
   "source": [
    "# vectorized version for GPU\n",
    "def log_joint_v(x, theta, z):\n",
    "    return -0.5 * torch.sum(z**2, dim = 1) - 1 / (2 * sigma**2)\\\n",
    "              * torch.sum((x - theta[:, None] - tau * z)**2, dim = 1)\n",
    "\n",
    "def log_q_v(theta, z, nu_mean_theta, nu_sd_theta, nu_mean_z, nu_sd_z):\n",
    "    log_q_theta = - torch.log(nu_sd_theta) - 1 / (2 * nu_sd_theta**2)\\\n",
    "                    * (theta - nu_mean_theta)**2\n",
    "    log_q_z = torch.sum(- torch.log(nu_sd_z) - 1 / (2 * nu_sd_z**2) * (z - nu_mean_z)**2,\n",
    "                        dim = 1)\n",
    "    return log_q_theta + log_q_z"
   ]
  },
  {
   "cell_type": "markdown",
   "id": "bde63698",
   "metadata": {},
   "source": [
    "### Factorized VI"
   ]
  },
  {
   "cell_type": "code",
   "execution_count": 325,
   "id": "8037f955",
   "metadata": {},
   "outputs": [],
   "source": [
    "# Tuning parameters for FVI\n",
    "mc_samples = 100  # for Monte Carlo estimator of ELBO"
   ]
  },
  {
   "cell_type": "code",
   "execution_count": 326,
   "id": "f6ceed5c",
   "metadata": {},
   "outputs": [],
   "source": [
    "class MCElbo_FVI(torch.nn.Module):\n",
    "    def __init__(self, nu_mean_theta_init, nu_sd_theta_log_init,\n",
    "                 nu_mean_z_init, nu_sd_z_log_init):\n",
    "        super(MCElbo_FVI, self).__init__()\n",
    "\n",
    "        self.nu_mean_theta = torch.nn.Parameter(nu_mean_theta_init, requires_grad = True)\n",
    "        self.nu_sd_theta_log = torch.nn.Parameter(nu_sd_theta_log_init, requires_grad = True)\n",
    "        self.nu_mean_z = torch.nn.Parameter(nu_mean_z_init, requires_grad = True)\n",
    "        self.nu_sd_z_log = torch.nn.Parameter(nu_sd_z_log_init, requires_grad = True)\n",
    "\n",
    "        self.mc_samples = mc_samples\n",
    "\n",
    "    def generate_rand(self, m):\n",
    "        eps_theta = torch.randn(m).to(device)\n",
    "        eps_z = torch.randn((m, n)).to(device)\n",
    "        return eps_theta, eps_z\n",
    "\n",
    "    def reparam(self, eps_theta, eps_z):\n",
    "        return eps_theta.mul(torch.exp(self.nu_sd_theta_log)).add(self.nu_mean_theta),\\\n",
    "               eps_z.mul(torch.exp(self.nu_sd_z_log)).add(self.nu_mean_z)\n",
    "\n",
    "    def compute_elbo(self, x):\n",
    "        eps_theta, eps_z = self.generate_rand(self.mc_samples)\n",
    "        theta, z = self.reparam(eps_theta, eps_z)\n",
    "        Elbo = log_joint_v(x, theta, z)\\\n",
    "          - log_q_v(theta, z, \n",
    "                    self.nu_mean_theta, torch.exp(self.nu_sd_theta_log),\n",
    "                    self.nu_mean_z, torch.exp(self.nu_sd_z_log))\n",
    "        return torch.mean(Elbo)\n",
    "        "
   ]
  },
  {
   "cell_type": "code",
   "execution_count": 327,
   "id": "afa58880",
   "metadata": {},
   "outputs": [],
   "source": [
    "def run_fvi(seed, n_iter_optimizer, lock_init = True, print_output = False):\n",
    "    torch.manual_seed(seed)\n",
    "\n",
    "    nu_mean_theta_init, nu_sd_theta_log_init, _alpha0, _alpha, nu_mean_z_init,\\\n",
    "        nu_sd_z_log_init, _xi_log = vi_init(seed, lock_init)\n",
    "\n",
    "    model = MCElbo_FVI(nu_mean_theta_init, nu_sd_theta_log_init, nu_mean_z_init,\n",
    "                       nu_sd_z_log_init).to(device)\n",
    "    optimizer = torch.optim.Adam(model.parameters(), lr = 1e-2)\n",
    "    x_torch = Variable(torch.tensor(x), requires_grad = False).reshape(n)\n",
    "    x_torch = x_torch.to(device) # move to GPU, if available\n",
    "\n",
    "    n_iter_optimizer = int(5e3)\n",
    "    loss_saved = torch.empty((n_iter_optimizer,))\n",
    "\n",
    "    start_time = time.time()\n",
    "    for i in range(n_iter_optimizer):\n",
    "        loss = - model.compute_elbo(x_torch)\n",
    "        optimizer.zero_grad()\n",
    "        loss.backward()\n",
    "        optimizer.step()\n",
    "        loss_saved[i] = loss.data\n",
    "        if i % 1000  == 0 and print_output:\n",
    "            print(\"loss\", loss_saved[i])\n",
    "    end_time = time.time()\n",
    "    time_fvi = end_time - start_time\n",
    "    return loss_saved, time_fvi\n"
   ]
  },
  {
   "cell_type": "code",
   "execution_count": 328,
   "id": "5548b047",
   "metadata": {},
   "outputs": [],
   "source": [
    "# Can run a single run and check output\n",
    "if (False):\n",
    "    loss_saved, time_fvi = run_fvi(seed, n_iter_optimizer)\n",
    "\n",
    "    # Get final result from training model\n",
    "    print(\"loss\", loss.data)\n",
    "    mf_mean_theta = model.nu_mean_theta.data\n",
    "    mf_sd_theta = torch.exp(model.nu_sd_theta_log).data\n",
    "    print(mf_mean_theta, mf_sd_theta)\n",
    "\n",
    "    # Expected results for marginal posterior of theta\n",
    "    print(np.mean(x))  # mean\n",
    "    print(np.sqrt((tau**2 + sigma**2) / n))  # sd\n",
    "\n",
    "    plt.plot(loss_saved)\n",
    "    plt.yscale(\"log\")\n",
    "    plt.xscale(\"log\")"
   ]
  },
  {
   "cell_type": "markdown",
   "id": "64201ff9",
   "metadata": {},
   "source": [
    "###  Amortized VI\n",
    "We consider AVI using a polynomial inference function of degree up to 2.\n",
    "In the amortized family,\n",
    "\\begin{equation*}\n",
    "  q(z_i; x_i) = \\text{normal}(f_\\mu(x_i, \\eta), f_{\\sigma^2}(x_i, \\eta)),\n",
    "\\end{equation*}\n",
    "where\n",
    "\\begin{eqnarray*}\n",
    "  f_\\mu(x_i, \\eta) & = & \\alpha_0 + \\alpha x_i + \\beta x_i^2 \\\\\n",
    "  f_{\\sigma^2}(x_i, \\eta) & = & \\eta_{\\sigma^2},\n",
    "\\end{eqnarray*}\n",
    "meaning we need to optimize over three variational parameters, $\\eta = (\\alpha_0, \\alpha, \\beta, \\eta_{\\sigma^2})$, regardless of what $n$ may be."
   ]
  },
  {
   "cell_type": "code",
   "execution_count": 329,
   "id": "6d388384",
   "metadata": {},
   "outputs": [],
   "source": [
    "class MCElbo_AVI(torch.nn.Module):\n",
    "    def __init__(self, nu_mean_theta_init, nu_sd_theta_log_init,\n",
    "                 alpha0_init, alpha_init, xi_log_init):\n",
    "        super(MCElbo_AVI, self).__init__()\n",
    "        \n",
    "        self.nu_mean_theta = torch.nn.Parameter(nu_mean_theta_init, requires_grad = True)\n",
    "        self.nu_sd_theta_log = torch.nn.Parameter(nu_sd_theta_log_init, requires_grad = True)\n",
    "        self.alpha0 = torch.nn.Parameter(alpha0_init, requires_grad = True)\n",
    "        self.alpha = torch.nn.Parameter(alpha_init, requires_grad = True)\n",
    "        self.beta = torch.nn.Parameter(torch.zeros((1, 1)), requires_grad = True)\n",
    "        self.nu_sd_z_log = torch.nn.Parameter(xi_log_init, requires_grad = True)\n",
    "        \n",
    "        self.mc_samples = mc_samples\n",
    "        \n",
    "   \n",
    "    def generate_rand(self, m):\n",
    "        eps_theta = torch.randn(m).to(device)\n",
    "        eps_z = torch.randn((m, n)).to(device)\n",
    "        return eps_theta, eps_z\n",
    "\n",
    "    def reparam(self, eps_theta, eps_z, x, nu_mean_z):\n",
    "        return eps_theta.mul(torch.exp(self.nu_sd_theta_log)).add(self.nu_mean_theta),\\\n",
    "               eps_z.mul(torch.exp(self.nu_sd_z_log)).add(nu_mean_z)\n",
    "\n",
    "    def compute_elbo_sample(self, x, nu_mean_z):\n",
    "        eps_theta, eps_z = self.generate_rand()\n",
    "        theta, z = self.reparam(eps_theta, eps_z, x, nu_mean_z)\n",
    "\n",
    "        elbo = log_joint(x, theta, z) - log_q(theta, z, self.nu_mean_theta,\n",
    "                                              torch.exp(self.nu_sd_theta_log),\n",
    "                                              nu_mean_z,\n",
    "                                              torch.exp(self.nu_sd_z_log))\n",
    "        return elbo        \n",
    "    \n",
    "    def compute_elbo(self, x, poly_degree):\n",
    "        if (poly_degree == 0):\n",
    "            nu_mean_z = self.alpha0\n",
    "        if (poly_degree == 1):\n",
    "            nu_mean_z = self.alpha0 + self.alpha.mul(x)\n",
    "        if (poly_degree == 2):\n",
    "            nu_mean_z = self.alpha0 + self.alpha.mul(x) + self.beta.mul(x**2)\n",
    "        \n",
    "        eps_theta, eps_z = self.generate_rand(self.mc_samples)\n",
    "        theta, z = self.reparam(eps_theta, eps_z, x, nu_mean_z)\n",
    "        \n",
    "        Elbo = log_joint_v(x, theta, z)\\\n",
    "          - log_q_v(theta, z, \n",
    "                    self.nu_mean_theta, torch.exp(self.nu_sd_theta_log),\n",
    "                    nu_mean_z, torch.exp(self.nu_sd_z_log))\n",
    "        return torch.mean(Elbo)        \n"
   ]
  },
  {
   "cell_type": "code",
   "execution_count": 330,
   "id": "0a93d655",
   "metadata": {},
   "outputs": [],
   "source": [
    "def run_avi(poly_degree, seed, n_iter_optimizer, lock_init = True, print_output = False):\n",
    "    torch.manual_seed(seed)\n",
    "    nu_mean_theta_init, nu_sd_theta_log_init, alpha0_init, alpha_init,\\\n",
    "    __mean_z, _nu_sd_z_log, xi_log_init = vi_init(seed, lock_init)\n",
    "\n",
    "    model_av = MCElbo_AVI(nu_mean_theta_init, nu_sd_theta_log_init,\n",
    "                          alpha0_init, alpha_init, xi_log_init).to(device)\n",
    "    optimizer = torch.optim.Adam(model_av.parameters(), lr = 1e-2)\n",
    "\n",
    "    loss_av_saved = torch.empty((n_iter_optimizer,))\n",
    "\n",
    "    start_time = time.time()\n",
    "    for i in range(n_iter_optimizer):\n",
    "        loss_av = - model_av.compute_elbo(x_torch, poly_degree)\n",
    "        optimizer.zero_grad()\n",
    "        loss_av.backward()\n",
    "        optimizer.step()\n",
    "        loss_av_saved[i] = loss_av.data\n",
    "        if i % 1000 == 0 and print_output:\n",
    "            print(\"loss\", loss_av.data)\n",
    "    end_time = time.time()\n",
    "    return loss_av_saved, end_time - start_time\n"
   ]
  },
  {
   "cell_type": "code",
   "execution_count": null,
   "id": "f721f059",
   "metadata": {},
   "outputs": [],
   "source": [
    "# DRAFT CODE when running \n",
    "\n",
    "# seed = 1989\n",
    "# loss_saved, time_fvi = run_fvi(seed, n_iter_optimizer)\n",
    "# loss_avi_0_saved, time_avi_0 = run_avi(0, seed, n_iter_optimizer)\n",
    "# loss_avi_1_saved, time_avi_1 = run_avi(1, seed, n_iter_optimizer)\n",
    "# loss_avi_2_saved, time_avi_2 = run_avi(2, seed, n_iter_optimizer)\n",
    "\n",
    "# save loss functions to csv\n",
    "# n_algorithms = 4\n",
    "# loss_all = torch.empty((n_iter_optimizer, n_algorithms))\n",
    "\n",
    "# loss_all[:, 0] = loss_saved\n",
    "# loss_all[:, 1] = loss_avi_0_saved\n",
    "# loss_all[:, 2] = loss_avi_1_saved\n",
    "# loss_all[:, 3] = loss_avi_2_saved\n",
    "\n",
    "# np.save(\"deliv/lin_loss_\" + str(seed), loss_all.detach().numpy())\n",
    "\n",
    "# saved_times = np.array([time_fvi, time_avi_0, time_avi_1, time_avi_2])\n",
    "# np.save(\"deliv/lin_time_\" + str(seed), saved_times)\n"
   ]
  },
  {
   "cell_type": "code",
   "execution_count": 331,
   "id": "3e4f0f70",
   "metadata": {},
   "outputs": [],
   "source": [
    "# function to run the experiments over multiple seeds\n",
    "def run_experiment(seed, n_iter_optimizer, lock_init):\n",
    "    loss_fvi, time_fvi = run_fvi(seed, n_iter_optimizer, lock_init)\n",
    "    loss_avi_0_saved, time_avi_0 = run_avi(0, seed, n_iter_optimizer, lock_init)\n",
    "    loss_avi_1_saved, time_avi_1 = run_avi(1, seed, n_iter_optimizer, lock_init)\n",
    "    loss_avi_2_saved, time_avi_2 = run_avi(2, seed, n_iter_optimizer, lock_init)\n",
    "\n",
    "    n_algorithms = 4\n",
    "    loss_all = torch.empty((n_iter_optimizer, n_algorithms))\n",
    "\n",
    "    loss_all[:, 0] = loss_fvi\n",
    "    loss_all[:, 1] = loss_avi_0_saved\n",
    "    loss_all[:, 2] = loss_avi_1_saved\n",
    "    loss_all[:, 3] = loss_avi_2_saved\n",
    "\n",
    "    np.save(\"deliv/lin_loss_\" + str(seed) + \"_lock\" + str(lock_init), loss_all.detach().numpy())\n",
    "\n",
    "    saved_times = np.array([time_fvi, time_avi_0, time_avi_1, time_avi_2])\n",
    "    np.save(\"deliv/lin_time_\" + str(seed) + \"_lock\" + str(lock_init), saved_times)\n"
   ]
  },
  {
   "cell_type": "code",
   "execution_count": 332,
   "id": "87bee381",
   "metadata": {},
   "outputs": [
    {
     "name": "stdout",
     "output_type": "stream",
     "text": [
      "seed:  1954\n",
      "seed:  1955\n",
      "seed:  1956\n",
      "seed:  1957\n",
      "seed:  1958\n",
      "seed:  1959\n",
      "seed:  1960\n",
      "seed:  1961\n",
      "seed:  1962\n",
      "seed:  1963\n"
     ]
    }
   ],
   "source": [
    "init_seed = 1954\n",
    "\n",
    "for i in range(10):\n",
    "    seed = init_seed + i\n",
    "    print(\"seed: \", seed)\n",
    "    run_experiment(seed, n_iter_optimizer, lock_init = False)\n"
   ]
  },
  {
   "cell_type": "markdown",
   "id": "ef484fe9",
   "metadata": {},
   "source": [
    "### Analyze results"
   ]
  },
  {
   "cell_type": "code",
   "execution_count": 402,
   "id": "28dd05a6",
   "metadata": {},
   "outputs": [
    {
     "data": {
      "image/png": "[encoded data removed]",
      "text/plain": [
       "<Figure size 640x480 with 1 Axes>"
      ]
     },
     "metadata": {},
     "output_type": "display_data"
    }
   ],
   "source": [
    "# read saved input\n",
    "seed = 1959\n",
    "lock_init = False\n",
    "loss_all = np.load(\"deliv/lin_loss_\" + str(seed) + \"_lock\" + str(lock_init) + \".npy\")\n",
    "# CHECK -- is it ok to use pickle = True\n",
    "\n",
    "loss_saved = loss_all[:, 0]\n",
    "loss_avi_0_saved = loss_all[:, 1]\n",
    "loss_avi_1_saved = loss_all[:, 2]\n",
    "loss_avi_2_saved = loss_all[:, 3]\n",
    "\n",
    "\n",
    "# plt.plot(loss_saved, label = 'mean field')\n",
    "plt.plot(loss_saved, label = 'FVI', alpha = 0.5)\n",
    "plt.plot(loss_avi_0_saved, label = 'd = 0', alpha = 0.5)\n",
    "plt.plot(loss_avi_1_saved, label = 'd = 1', alpha = 0.5)\n",
    "plt.plot(loss_avi_2_saved, label = 'd = 2', alpha = 0.5)\n",
    "plt.yscale(\"log\")\n",
    "plt.xscale(\"log\")\n",
    "plt.legend(loc = \"best\")\n",
    "plt.title(\"Linear normal model\")\n",
    "plt.xlabel(\"Iteration\")\n",
    "plt.ylabel(\"- Elbo\")\n",
    "\n",
    "# ax = plt.axes()\n",
    "# ax.set_facecolor(\"white\")\n",
    "# ax.grid(which = 'major', b = 'true', c = 'grey')\n",
    "plt.savefig(\"to_discuss/elbo_lin_normal_\" + str(seed) + \".pdf\")\n",
    "plt.show()\n"
   ]
  },
  {
   "cell_type": "code",
   "execution_count": 345,
   "id": "0992137c",
   "metadata": {},
   "outputs": [
    {
     "name": "stdout",
     "output_type": "stream",
     "text": [
      "tensor([[-0.0037]], device='cuda:0') tensor([[0.]], device='cuda:0') tensor([[0.]], device='cuda:0')\n",
      "tensor([[-0.0070]], device='cuda:0') tensor([[0.1598]], device='cuda:0') tensor([[0.]], device='cuda:0')\n",
      "tensor([[-0.0043]], device='cuda:0') tensor([[0.1599]], device='cuda:0') tensor([[-0.0006]], device='cuda:0')\n"
     ]
    }
   ],
   "source": [
    "# Examine the coefficients of the trained inference polynomials\n",
    "print(model_avi_0.alpha0.data, model_avi_0.alpha.data, model_avi_0.beta.data)\n",
    "print(model_avi_1.alpha0.data, model_avi_1.alpha.data, model_avi_1.beta.data)\n",
    "print(model_avi_2.alpha0.data, model_avi_2.alpha.data, model_avi_2.beta.data)"
   ]
  },
  {
   "cell_type": "code",
   "execution_count": 403,
   "id": "c63c8de1",
   "metadata": {},
   "outputs": [],
   "source": [
    "def mean_window(loss, index_center, window):\n",
    "    return np.mean(loss[(index_center - window):(index_center + window)])\n",
    "\n",
    "def sd_window(loss, index_center, window):\n",
    "    return np.std(loss[(index_center - window):(index_center + window)]) "
   ]
  },
  {
   "cell_type": "code",
   "execution_count": 404,
   "id": "59925b3a",
   "metadata": {},
   "outputs": [
    {
     "name": "stdout",
     "output_type": "stream",
     "text": [
      "FVI:  5978.872  +/-  0.35648352\n",
      "d = 0:  7091.83  +/-  4.7424726\n",
      "d = 1:  5973.0186  +/-  0.07557278\n",
      "d = 2:  5973.185  +/-  0.29985538\n"
     ]
    }
   ],
   "source": [
    "# Get asymptotic ELBO\n",
    "index_center = 4500\n",
    "window = 500\n",
    "print(\"FVI: \", mean_window(loss_saved, 4500, window), \" +/- \",\n",
    "     sd_window(loss_saved, 4500, window))\n",
    "print(\"d = 0: \", mean_window(loss_avi_0_saved, 4500, window), \" +/- \",\n",
    "     sd_window(loss_avi_0_saved, 4500, window))\n",
    "print(\"d = 1: \", mean_window(loss_avi_1_saved, 4500, window), \" +/- \",\n",
    "     sd_window(loss_avi_1_saved, 4500, window))\n",
    "print(\"d = 2: \", mean_window(loss_avi_2_saved, 4500, window), \" +/- \",\n",
    "     sd_window(loss_avi_2_saved, 4500, window))"
   ]
  },
  {
   "cell_type": "code",
   "execution_count": 431,
   "id": "dcf3191e",
   "metadata": {},
   "outputs": [],
   "source": [
    "## Estimate of the convergence\n",
    "# If oracle = False, compare subsequent windows.\n",
    "def iter_convergence(loss, rel_tol = 0.01, init_iteration = 10, window = 10,\n",
    "                     grid = 10, max_iteration = 5000, oracle = True, set_target = 0):\n",
    "    iteration = init_iteration\n",
    "    tol = 0\n",
    "    diff = tol + 1\n",
    "    while(diff > tol and iteration < max_iteration):\n",
    "        iteration += grid\n",
    "        if (oracle):\n",
    "            target = set_target\n",
    "        else:\n",
    "            target = mean_window(loss, iteration - grid, window)\n",
    "\n",
    "        tol = rel_tol * abs(target)\n",
    "        diff = abs(mean_window(loss, iteration, window) - target)\n",
    "        # print(\"diff:\", diff)\n",
    "        # print(\"tol:\", tol)\n",
    "    return iteration\n",
    "\n",
    "# Q: should we report convergence to F-VI's solution or for each individual solution?\n",
    "def iter_conv_wrapper(loss, loss_benchmark, rel_tol = 0.01, window = 10):\n",
    "    return iter_convergence(loss, oracle = True, rel_tol = rel_tol,\n",
    "                            set_target = mean_window(loss_benchmark, 4500, window))\n"
   ]
  },
  {
   "cell_type": "code",
   "execution_count": 430,
   "id": "65f171c9",
   "metadata": {},
   "outputs": [
    {
     "name": "stdout",
     "output_type": "stream",
     "text": [
      "FVI: 200\n",
      "d = 0: 5000\n",
      "d = 1: 50\n",
      "d = 2: 50\n"
     ]
    }
   ],
   "source": [
    "print(\"FVI:\", iter_conv_wrapper(loss_saved, loss_saved))\n",
    "print(\"d = 0:\", iter_conv_wrapper(loss_avi_0_saved, loss_saved))\n",
    "print(\"d = 1:\", iter_conv_wrapper(loss_avi_1_saved, loss_saved))\n",
    "print(\"d = 2:\", iter_conv_wrapper(loss_avi_2_saved, loss_saved))\n"
   ]
  },
  {
   "cell_type": "code",
   "execution_count": 447,
   "id": "c8d9400c",
   "metadata": {},
   "outputs": [],
   "source": [
    "# Get results across multiple seeds\n",
    "init_seed = 1954\n",
    "num_seed = 10\n",
    "lock_init = False  # Both options have saved files\n",
    "num_seed = 10\n",
    "n_algorithms = 4\n",
    "num_tol = 3\n",
    "rel_tol = np.array([0.5, 0.1, 0.01])\n",
    "\n",
    "iter_to_conv = np.empty((num_seed, n_algorithms, num_tol))\n",
    "Elbo_final = np.empty((num_seed, n_algorithms)) \n",
    "\n",
    "for i in range(num_seed):\n",
    "    loss_all = np.load(\"deliv/lin_loss_\" + str(init_seed + i) + \"_lock\" + str(lock_init) + \".npy\")\n",
    "\n",
    "    for j in range(n_algorithms):\n",
    "        Elbo_final[i, j] = mean_window(loss_all[:, j], 4500, window)\n",
    "        for k in range(num_tol):\n",
    "            # Use F-VI as the benchmark for the asymptotic ELBO\n",
    "            iter_to_conv[i, j, k] = iter_conv_wrapper(loss_all[:, j], loss_all[:, 0], rel_tol[k])\n"
   ]
  },
  {
   "cell_type": "code",
   "execution_count": 448,
   "id": "16d956e3",
   "metadata": {},
   "outputs": [
    {
     "name": "stdout",
     "output_type": "stream",
     "text": [
      "mean iter:\n",
      " [[  73.  184.  590.]\n",
      " [  54. 5000. 5000.]\n",
      " [  40.  126.  507.]\n",
      " [  40.  126.  508.]]\n",
      "min iter:\n",
      " [[  50.  110.  200.]\n",
      " [  20. 5000. 5000.]\n",
      " [  20.   20.   20.]\n",
      " [  20.   20.   20.]]\n",
      "max iter:\n",
      " [[ 170.  510. 1920.]\n",
      " [ 220. 5000. 5000.]\n",
      " [ 160.  510. 1890.]\n",
      " [ 160.  510. 1890.]]\n",
      "[5980.44077148 7093.1487793  5974.60620117 5974.76279297]\n"
     ]
    }
   ],
   "source": [
    "print(\"mean iter:\\n\", np.mean(iter_to_conv, axis = 0))\n",
    "print(\"min iter:\\n\", np.min(iter_to_conv, axis = 0))\n",
    "print(\"max iter:\\n\", np.max(iter_to_conv, axis = 0))\n",
    "print(np.mean(Elbo_final, axis = 0))"
   ]
  },
  {
   "cell_type": "code",
   "execution_count": 26,
   "id": "c5277f15",
   "metadata": {},
   "outputs": [
    {
     "data": {
      "image/png": "[encoded data removed]",
      "text/plain": [
       "<Figure size 432x288 with 1 Axes>"
      ]
     },
     "metadata": {},
     "output_type": "display_data"
    }
   ],
   "source": [
    "xn = np.arange(-0.5, 0.5, 0.001)\n",
    "true_dist = norm(loc = np.mean(x),\n",
    "                scale = np.sqrt((tau**2 + sigma**2) / n))\n",
    "\n",
    "q_mf_dist = norm(loc = mf_mean_theta,\n",
    "                 scale = mf_sd_theta)\n",
    "\n",
    "q_am_dist = norm(loc = model.nu_mean_theta.data.numpy(),\n",
    "                 scale = torch.exp(model.nu_sd_theta_log).data.numpy())\n",
    "\n",
    "plt.plot(xn, true_dist.pdf(xn).ravel(), linewidth = 3, label = \"correct posterior\")\n",
    "plt.plot(xn, q_mf_dist.pdf(xn).ravel(), linewidth = 3, label = \"mean field\")\n",
    "plt.plot(xn, q_am_dist.pdf(xn).ravel(), '--', linewidth = 3, label = \"linear amortized\")\n",
    "plt.title(\"marginal posterior for theta\")\n",
    "plt.legend()\n",
    "plt.savefig(\"to_discuss/marginal_theta.pdf\")\n",
    "plt.show()\n",
    "\n",
    "## ToDo: examine other marginal, and maybe some joints..."
   ]
  },
  {
   "cell_type": "markdown",
   "id": "58e442ef",
   "metadata": {},
   "source": [
    "# Normal-Normal with unknown prior variance\n",
    "Same model as before, but this time the prior variance is unknown. This slight complication of the model means we no longer have access to analytical solutions.\n",
    "\\begin{eqnarray*}\n",
    "  p(\\theta) & \\propto & 1, \\\\\n",
    "  p(\\tau) & = & \\text{log-norma}(0, 1), \\\\\n",
    "  p(z_i) & = & \\text{normal}(0, 1), \\\\\n",
    "  \\Omega_\\mu (z_i, \\theta) & = & \\theta + \\tau z_i, \\\\\n",
    "  p(x_i \\mid z_i, \\theta) & = & \\text{normal}(\\Omega_\\mu(z_i, \\theta), \\sigma^2),\n",
    "\\end{eqnarray*}\n",
    "\n",
    "Notes: \n",
    "* Can re-use the data simulated in the previous section.\n",
    "* Since we operate on the unconstrained scale, the model is parameterized in terms of $p(\\log \\tau) = \\text{normal}(0, 1)$."
   ]
  },
  {
   "cell_type": "markdown",
   "id": "9b052363",
   "metadata": {},
   "source": [
    "### Mean field VI"
   ]
  },
  {
   "cell_type": "code",
   "execution_count": null,
   "id": "a9b66711",
   "metadata": {},
   "outputs": [],
   "source": [
    "# Common initializations\n",
    "torch.manual_seed(1954)\n",
    "nu_mean_theta_init = torch.randn(1, 1)\n",
    "nu_sd_theta_log_init = torch.randn(1, 1)\n",
    "nu_mean_log_tau_init = torch.randn(1, 1)\n",
    "nu_sd_log_tau_log_init = torch.randn(1, 1)\n",
    "alpha0_init = torch.randn(1, 1)\n",
    "alpha_init = torch.randn(1, 1)\n",
    "nu_mean_z_init = alpha0_init + alpha_init * x\n",
    "\n",
    "nu_sd_z_log_init = torch.randn(1, 1)"
   ]
  },
  {
   "cell_type": "code",
   "execution_count": null,
   "id": "ea306244",
   "metadata": {},
   "outputs": [],
   "source": [
    "def log_joint(x, theta, log_tau, z):\n",
    "    return -0.5 * torch.sum(z**2) - 1 / (2 * sigma**2)\\\n",
    "               * torch.sum((x - theta - z)**2)\\\n",
    "               - 0.5 * log_tau**2\n",
    "\n",
    "def log_q(theta, log_tau, z, nu_mean_theta, nu_sd_theta, nu_mean_z, nu_sd_z,\n",
    "          nu_mean_log_tau, nu_sd_log_tau):\n",
    "    log_q_theta = - torch.log(nu_sd_theta) - 1 / (2 * nu_sd_theta**2)\\\n",
    "                    * (theta - nu_mean_theta)**2\n",
    "    \n",
    "    log_q_tau = - torch.log(nu_sd_log_tau) - 1 / (2 * nu_sd_log_tau**2)\\\n",
    "                                                       * (log_tau - nu_mean_log_tau)**2\n",
    "\n",
    "    log_q_z = torch.sum(- torch.log(nu_sd_z) - 1 / (2 * nu_sd_z**2) * (z - nu_mean_z)**2)\n",
    "\n",
    "    return log_q_theta + log_q_tau + log_q_z"
   ]
  },
  {
   "cell_type": "code",
   "execution_count": null,
   "id": "65479aa6",
   "metadata": {},
   "outputs": [],
   "source": [
    "class MCElbo_meanfield_nnt(torch.nn.Module):\n",
    "    def __init__(self):\n",
    "        super(MCElbo_meanfield_nnt, self).__init__()\n",
    "        \n",
    "        # Use common initialization\n",
    "        self.nu_mean_theta = torch.nn.Parameter(nu_mean_theta_init, requires_grad = True)\n",
    "        self.nu_sd_theta_log = torch.nn.Parameter(nu_sd_theta_log_init, requires_grad = True)\n",
    "        self.nu_mean_log_tau = torch.nn.Parameter(nu_mean_log_tau_init, requires_grad = True)\n",
    "        self.nu_sd_log_tau_log = torch.nn.Parameter(nu_sd_log_tau_log_init,\n",
    "                                                    requires_grad = True)\n",
    "        self.nu_mean_z = torch.nn.Parameter(nu_mean_z_init, requires_grad = True)\n",
    "        self.nu_sd_z_log = torch.nn.Parameter(nu_sd_z_log_init, requires_grad = True)\n",
    "\n",
    "        self.mc_samples = 50\n",
    "\n",
    "    def generate_rand(self):\n",
    "        eps_theta = np.random.normal(size = (1, 1))\n",
    "        eps_tau_log = np.random.normal(size = (1, 1))\n",
    "        eps_z = np.random.normal(size = (n, 1))\n",
    "\n",
    "        return eps_theta, eps_tau_log, eps_z\n",
    "        \n",
    "    def reparam(self, eps_theta, eps_log_tau, eps_z):\n",
    "        eps_theta = Variable(torch.FloatTensor(eps_theta))\n",
    "        eps_log_tau = Variable(torch.FloatTensor(eps_log_tau))\n",
    "        eps_z = Variable(torch.FloatTensor(eps_z))\n",
    "        return eps_theta.mul(torch.exp(self.nu_sd_theta_log)).add(self.nu_mean_theta),\\\n",
    "               eps_log_tau.mul(torch.exp(self.nu_sd_log_tau_log)).add(self.nu_mean_log_tau),\\\n",
    "               eps_z.mul(torch.exp(self.nu_sd_z_log)).add(self.nu_mean_z)\n",
    "    \n",
    "    def compute_elbo_sample(self, x):\n",
    "        eps_theta, eps_log_tau, eps_z = self.generate_rand()\n",
    "        theta, log_tau, z = self.reparam(eps_theta, eps_log_tau, eps_z)\n",
    "        Elbo = log_joint(x, theta, log_tau, z)\\\n",
    "               - log_q(theta, log_tau, z,\n",
    "                         self.nu_mean_theta, torch.exp(self.nu_sd_theta_log),\n",
    "                         self.nu_mean_z, torch.exp(self.nu_sd_z_log),\n",
    "                         self.nu_mean_log_tau, torch.exp(self.nu_sd_log_tau_log))\n",
    "        return Elbo\n",
    "\n",
    "    def compute_elbo(self, x):\n",
    "        Elbo_mean = self.compute_elbo_sample(x)\n",
    "        for i in range(1, self.mc_samples):\n",
    "            Elbo_mean = i * Elbo_mean / (i + 1) + self.compute_elbo_sample(x) / (i + 1)\n",
    "        \n",
    "        return Elbo_mean\n",
    "    "
   ]
  },
  {
   "cell_type": "code",
   "execution_count": null,
   "id": "339c3246",
   "metadata": {},
   "outputs": [],
   "source": [
    "model = MCElbo_meanfield_nnt()\n",
    "optimizer = torch.optim.Adam(model.parameters(), lr = 1e-2)\n",
    "x_torch = Variable(torch.tensor(x), requires_grad = False)\n",
    "\n",
    "n_iter_optimizer = int(5e3)\n",
    "loss_saved = np.empty((n_iter_optimizer,))\n",
    "\n",
    "for i in range(n_iter_optimizer):\n",
    "    loss = - model.compute_elbo(x_torch)\n",
    "    optimizer.zero_grad()\n",
    "    loss.backward()\n",
    "    optimizer.step()\n",
    "    loss_saved[i] = loss.data.numpy()\n",
    "    if i % 1000  == 0:\n",
    "        # for now, only keep track of the variational parameters of theta\n",
    "        print(\"loss\", loss.data.numpy())\n",
    "        print(model.nu_mean_theta.data.numpy(), torch.exp(model.nu_sd_theta_log).data.numpy())\n",
    "        print(model.nu_mean_log_tau.data.numpy(), model.nu_sd_log_tau_log.data.numpy())\n"
   ]
  },
  {
   "cell_type": "code",
   "execution_count": null,
   "id": "8a5722cc",
   "metadata": {},
   "outputs": [],
   "source": [
    "# Get final result from training model\n",
    "print(\"loss\", loss.data.numpy())\n",
    "mf_mean_theta = model.nu_mean_theta.data.numpy()\n",
    "mf_sd_theta = torch.exp(model.nu_sd_theta_log).data.numpy()\n",
    "print(mf_mean_theta, mf_sd_theta)\n",
    "\n",
    "# Expected results for marginal posterior of theta\n",
    "print(np.mean(x))  # mean\n",
    "print(np.sqrt((tau**2 + sigma**2) / n))  # sd"
   ]
  },
  {
   "cell_type": "code",
   "execution_count": null,
   "id": "2edc97d6",
   "metadata": {},
   "outputs": [],
   "source": [
    "plt.plot(loss_saved)\n",
    "plt.yscale(\"log\")\n",
    "plt.xscale(\"log\")"
   ]
  },
  {
   "cell_type": "markdown",
   "id": "ee6c81a0",
   "metadata": {},
   "source": [
    "### Linear Amortized VI"
   ]
  },
  {
   "cell_type": "code",
   "execution_count": null,
   "id": "0f973689",
   "metadata": {},
   "outputs": [],
   "source": [
    "# Common initializations\n",
    "torch.manual_seed(1954)\n",
    "nu_mean_theta_init = torch.randn(1, 1)\n",
    "nu_sd_theta_log_init = torch.randn(1, 1)\n",
    "nu_mean_log_tau_init = torch.randn(1, 1)\n",
    "nu_sd_log_tau_log_init = torch.randn(1, 1)\n",
    "alpha0_init = torch.randn(1, 1)\n",
    "alpha_init = torch.randn(1, 1)\n",
    "nu_mean_z_init = alpha0_init + alpha_init * x\n",
    "\n",
    "nu_sd_z_log_init = torch.randn(1, 1)"
   ]
  },
  {
   "cell_type": "code",
   "execution_count": null,
   "id": "d80da477",
   "metadata": {},
   "outputs": [],
   "source": [
    "def log_amortized_q(theta, log_tau, z, nu_mean_theta, nu_sd_theta, nu_mean_log_tau,\n",
    "                    nu_sd_log_tau, alpha0, alpha, nu_sd, x):\n",
    "    log_q_theta = - torch.log(nu_sd_theta) - 1 / (2 * nu_sd_theta**2)\\\n",
    "                    * (theta - nu_mean_theta)**2\n",
    "    \n",
    "    # log_q_tau = 0\n",
    "    log_q_tau = - torch.log(nu_sd_log_tau) - 1 / (2 * nu_sd_log_tau**2)\\\n",
    "                                                       * (log_tau - nu_mean_log_tau)**2\n",
    "    \n",
    "    log_q_z = torch.sum(- torch.log(nu_sd) - 1 / (2 * nu_sd**2) * (z - alpha0 - alpha * x)**2)\n",
    "    \n",
    "    return log_q_theta + log_q_tau + log_q_z\n"
   ]
  },
  {
   "cell_type": "code",
   "execution_count": null,
   "id": "40181ea4",
   "metadata": {},
   "outputs": [],
   "source": [
    "class MCElbo_linear_arm_nnt(torch.nn.Module):\n",
    "    def __init__(self):\n",
    "        super(MCElbo_linear_arm_nnt, self).__init__()\n",
    "\n",
    "        # Use common initialization\n",
    "        self.nu_mean_theta = torch.nn.Parameter(nu_mean_theta_init, requires_grad = True)\n",
    "        self.nu_sd_theta_log = torch.nn.Parameter(nu_sd_theta_log_init, requires_grad = True)\n",
    "        self.nu_mean_log_tau = torch.nn.Parameter(nu_mean_log_tau_init, requires_grad = True)\n",
    "        self.nu_sd_log_tau_log = torch.nn.Parameter(nu_sd_log_tau_log_init,\n",
    "                                                    requires_grad = True)\n",
    "        self.alpha0 = torch.nn.Parameter(alpha0_init, requires_grad = True)\n",
    "        self.alpha = torch.nn.Parameter(alpha_init, requires_grad = True)\n",
    "        self.nu_sd_z_log = torch.nn.Parameter(nu_sd_z_log_init, requires_grad = True)\n",
    "        \n",
    "        self.mc_samples = 50\n",
    "\n",
    "    def generate_rand(self):\n",
    "        eps_theta = np.random.normal(size = (1, 1))\n",
    "        eps_tau_log = np.random.normal(size = (1, 1))\n",
    "        eps_z = np.random.normal(size = (n, 1))\n",
    "        return eps_theta, eps_tau_log, eps_z\n",
    "\n",
    "    def reparam(self, eps_theta, eps_tau_log, eps_z, x):\n",
    "        eps_theta = Variable(torch.FloatTensor(eps_theta))\n",
    "        eps_log_tau = Variable(torch.FloatTensor(eps_tau_log))\n",
    "        eps_z = Variable(torch.FloatTensor(eps_z))\n",
    "\n",
    "        return eps_theta.mul(torch.exp(self.nu_sd_theta_log)).add(self.nu_mean_theta),\\\n",
    "               eps_log_tau.mul(torch.exp(self.nu_sd_log_tau_log)).add(self.nu_mean_log_tau),\\\n",
    "               eps_z.mul(torch.exp(self.nu_sd_z_log)).add(self.alpha0).add(self.alpha.mul(x))        \n",
    "\n",
    "    def compute_elbo_sample(self, x):\n",
    "        eps_theta, eps_log_tau, eps_z = self.generate_rand()\n",
    "        theta, log_tau, z = self.reparam(eps_theta, eps_log_tau, eps_z, x)\n",
    "        \n",
    "        elbo = log_joint(x, theta, log_tau, z)\\\n",
    "          - log_amortized_q(theta, log_tau, z,\n",
    "                            self.nu_mean_theta, torch.exp(self.nu_sd_theta_log),\n",
    "                            self.nu_mean_log_tau, torch.exp(self.nu_sd_log_tau_log),\n",
    "                            self.alpha0, self.alpha, torch.exp(self.nu_sd_z_log), x)        \n",
    "        return elbo\n",
    "\n",
    "    def compute_elbo(self, x):\n",
    "        Elbo_mean = self.compute_elbo_sample(x)\n",
    "        for i in range(1, self.mc_samples):\n",
    "            Elbo_mean = i * Elbo_mean / (i + 1) + self.compute_elbo_sample(x) / (i + 1)\n",
    "        return Elbo_mean\n"
   ]
  },
  {
   "cell_type": "code",
   "execution_count": null,
   "id": "75a8fd90",
   "metadata": {},
   "outputs": [],
   "source": [
    "model_arm = MCElbo_linear_arm_nnt()\n",
    "\n",
    "optimizer = torch.optim.Adam(model_arm.parameters(), lr = 1e-2)\n",
    "x_torch = Variable(torch.tensor(x), requires_grad = False)\n",
    "\n",
    "n_iter_optimizer = int(5e3)  # 5e3\n",
    "loss_am_saved = np.empty(n_iter_optimizer)\n",
    "for i in range(n_iter_optimizer):\n",
    "    loss = - model_arm.compute_elbo(x_torch)\n",
    "    optimizer.zero_grad()\n",
    "    loss.backward()\n",
    "    optimizer.step()\n",
    "    loss_am_saved[i] = loss\n",
    "    if i % 1000  == 0:\n",
    "        print(\"loss\", loss.data.numpy())\n",
    "        print(model_arm.nu_mean_theta.data.numpy(),\n",
    "              torch.exp(model_arm.nu_sd_theta_log).data.numpy())\n",
    "        "
   ]
  },
  {
   "cell_type": "code",
   "execution_count": null,
   "id": "2ae7727c",
   "metadata": {},
   "outputs": [],
   "source": [
    "# \"Final\" result\n",
    "print(\"loss\", loss.data.numpy())\n",
    "print(model_arm.nu_mean_theta.data.numpy(), torch.exp(model_arm.nu_sd_theta_log).data.numpy())\n",
    "\n",
    "# Expected results for marginal posterior of theta\n",
    "print(np.mean(x))\n",
    "print(np.sqrt((tau**2 + sigma**2) / n))"
   ]
  },
  {
   "cell_type": "code",
   "execution_count": null,
   "id": "91a2fecd",
   "metadata": {},
   "outputs": [],
   "source": [
    "plt.plot(loss_am_saved, label = 'linear amortized', alpha = 0.5)\n",
    "plt.plot(loss_saved, label = 'mean field', alpha = 0.5)\n",
    "plt.yscale(\"log\")\n",
    "plt.xscale(\"log\")\n",
    "plt.legend(loc = \"best\")\n",
    "plt.title(\"Elbo, n = \" + str(n))\n",
    "plt.savefig(\"to_discuss/elbo.pdf\")\n",
    "plt.show()"
   ]
  },
  {
   "cell_type": "code",
   "execution_count": null,
   "id": "41f4b046",
   "metadata": {},
   "outputs": [],
   "source": [
    "mf_means = [model.nu_mean_theta.data.numpy(),\n",
    "            model.nu_mean_log_tau.data.numpy(),\n",
    "            model.nu_mean_z.data.numpy()[0]]\n",
    "\n",
    "mf_sd = [torch.exp(model.nu_sd_theta_log).data.numpy(),\n",
    "         torch.exp(model.nu_sd_log_tau_log).data.numpy(),\n",
    "         torch.exp(model.nu_sd_z_log[0]).data.numpy()]\n",
    "\n",
    "arm_means = [model_arm.nu_mean_theta.data.numpy(),\n",
    "             model_arm.nu_mean_log_tau.data.numpy(),\n",
    "             model_arm.alpha0.data.numpy() + model_arm.alpha.data.numpy() * x[0]]\n",
    "\n",
    "arm_sd = [torch.exp(model_arm.nu_sd_theta_log).data.numpy(),\n",
    "          torch.exp(model_arm.nu_sd_log_tau_log).data.numpy(),\n",
    "          torch.exp(model_arm.nu_sd_z_log).data.numpy()]\n"
   ]
  },
  {
   "cell_type": "code",
   "execution_count": null,
   "id": "b8ee0141",
   "metadata": {},
   "outputs": [],
   "source": [
    "# TODO: get a benchmark (e.g. with long MCMC runs...)\n",
    "xn = np.arange(-2.5, 2.5, 0.001)\n",
    "# true_dist = norm(loc = np.mean(x),\n",
    "#                 scale = np.sqrt((tau**2 + sigma**2) / n))\n",
    "\n",
    "index = 2\n",
    "\n",
    "q_mf_dist = norm(loc = mf_means[index], scale = mf_sd[index])\n",
    "q_am_dist = norm(loc = arm_means[index], scale = arm_sd[index])\n",
    "\n",
    "\n",
    "# plt.plot(xn, true_dist.pdf(xn).ravel(), linewidth = 3, label = \"correct posterior\")\n",
    "plt.plot(xn, q_mf_dist.pdf(xn).ravel(), linewidth = 3, label = \"mean field\")\n",
    "plt.plot(xn, q_am_dist.pdf(xn).ravel(), '--', linewidth = 3, label = \"linear amortized\")\n",
    "plt.title(\"marginal posterior for theta\")\n",
    "plt.legend()\n",
    "plt.savefig(\"to_discuss/marginal_theta.pdf\")\n",
    "plt.show()"
   ]
  },
  {
   "cell_type": "markdown",
   "id": "e81c7756",
   "metadata": {},
   "source": [
    "# Draft Code"
   ]
  },
  {
   "cell_type": "code",
   "execution_count": null,
   "id": "05d3d791",
   "metadata": {},
   "outputs": [],
   "source": [
    "# Test code...\n",
    "theta = torch.normal(mean = torch.mean(x_torch).repeat(10, 1), std = 1)\n",
    "z = torch.normal(mean = torch.tensor([0.]).repeat(10, 1), std = 2.3)\n",
    "\n",
    "nu_mean_theta = torch.tensor([np.mean(x)])\n",
    "nu_sd_theta = torch.tensor([2.1])\n",
    "alpha0 = torch.tensor([np.mean(x)])\n",
    "alpha = torch.tensor([0.2])\n",
    "nu_sd = torch.tensor([0.8])\n",
    "\n",
    "x_torch = torch.tensor(x)[:,0].repeat(10, 1)\n",
    "\n",
    "log_am_q = log_amortized_q(theta, z, nu_mean_theta, nu_sd_theta, alpha0, alpha, nu_sd, x_torch)\n",
    "print(log_am_q.size())"
   ]
  },
  {
   "cell_type": "code",
   "execution_count": null,
   "id": "35249587",
   "metadata": {},
   "outputs": [],
   "source": [
    "alpha0 = torch.randn(1,)\n",
    "alpha = torch.randn(1,)\n",
    "test_mean = (alpha0 + alpha * x_torch).repeat(100, 1, 1).reshape(100, 5)\n",
    "print(alpha0.size())\n",
    "print((alpha * x_torch).size())\n",
    "print(test_mean.size())"
   ]
  },
  {
   "cell_type": "code",
   "execution_count": null,
   "id": "5966c4f5",
   "metadata": {},
   "outputs": [],
   "source": [
    "# draft code\n",
    "test_mean = torch.tensor([0., 10, 1, 0., -1.])\n",
    "test_sd = torch.tensor([1])\n",
    "print(torch.normal(mean = test_mean, std = test_sd))\n",
    "\n",
    "test_mean_theta = torch.tensor([0.])\n",
    "test_sd_theta = torch.tensor([1.])\n",
    "print(torch.normal(mean = test_mean_theta, std = test_sd_theta))\n",
    "\n",
    "test_mean_repeat = test_mean.repeat(10, 1)  # Check -- should I use expand instead?\n",
    "print(test_mean_repeat)\n",
    "\n",
    "samples_repeat = torch.normal(mean = test_mean_repeat, std = test_sd)\n",
    "print(samples_repeat.size())\n",
    "\n",
    "samples_repeat_theta = torch.normal(mean = test_mean_theta.repeat(10, 1),\n",
    "                                    std = test_sd_theta)\n",
    "print(samples_repeat_theta.size())\n",
    "\n",
    "print(torch.tensor(x)[:,0].size())\n",
    "print(test_mean.size())\n",
    "x_torch = torch.tensor(x)[:,0].repeat(10, 1)\n",
    "x_torch.size()\n",
    "\n",
    "print(\"theta sample size\", samples_repeat_theta.size())\n",
    "print(samples_repeat.size())\n",
    "x_torch = torch.tensor(x)[:,0].repeat(10, 1)\n",
    "print(x_torch.size())\n",
    "f = log_joint(x_torch, samples_repeat_theta, samples_repeat)\n",
    "\n",
    "print(\"f size:\", f.size())\n",
    "print(f)\n",
    "print(torch.mean(f))\n",
    "\n",
    "f_q = log_q(samples_repeat_theta, samples_repeat, test_mean_theta, \n",
    "            test_sd_theta, test_mean, test_sd)\n",
    "\n",
    "print(\"f_q size:\", f_q.size())\n",
    "# print(f_q)\n",
    "print(torch.mean(f_q))\n",
    "\n",
    "print(samples_repeat.size())\n",
    "print(test_mean.repeat(1, 1).size())\n",
    "\n",
    "nu_sd_z = test_sd\n",
    "nu_mean_z = test_mean.repeat(1, 1)\n",
    "z = samples_repeat\n",
    "kernel = - torch.sum(1 / (2 * nu_sd_z**2) * (z - nu_mean_z)**2, dim = 1)\n",
    "kernel.size()\n",
    "\n",
    "kernel = - 1 / (2 * test_sd_theta**2) * (samples_repeat_theta - test_mean_theta)**2\n",
    "kernel.size()"
   ]
  },
  {
   "cell_type": "markdown",
   "id": "2145c02d",
   "metadata": {},
   "source": [
    "### Draft code to test vectorized version of log density evaluation"
   ]
  },
  {
   "cell_type": "code",
   "execution_count": null,
   "id": "27977e59",
   "metadata": {},
   "outputs": [],
   "source": [
    "# Test vectorized density computation\n",
    "x_torch = Variable(torch.tensor(x), requires_grad = False)\n",
    "x_torch2 = x_torch.reshape(10000)\n",
    "print(x_torch2.shape)\n",
    "theta = torch.randn(100)\n",
    "print(theta.shape)\n",
    "z = torch.randn(100, n)\n",
    "print(z.shape)\n",
    "\n",
    "nu_mean_theta = torch.randn(1)\n",
    "nu_sd_theta = torch.exp(torch.randn(1))\n",
    "nu_mean_z = torch.randn(n)\n",
    "nu_sd_z = torch.exp(torch.randn(n))\n",
    "\n",
    "\n",
    "lq_v = log_q_v(theta, z, nu_mean_theta, nu_sd_theta, nu_mean_z, nu_sd_z)\n",
    "print(lq_v[0])\n",
    "\n",
    "lq_ = log_q(theta[0], z[0,:], nu_mean_theta, nu_sd_theta, nu_mean_z, nu_sd_z)\n",
    "print(lq_)\n",
    "\n",
    "lp_v = log_joint_v(x_torch2, theta, z)\n",
    "print(lp_v[0])\n",
    "\n",
    "lp_ = log_joint(x_torch2, theta[0], z[0,:])\n",
    "print(lp_)\n",
    "\n",
    "z_sum = torch.sum(z**2, dim = 1)\n",
    "print(z_sum.shape)\n",
    "print(z_sum[0])\n",
    "print(torch.sum(z[0,:]**2))\n",
    "\n",
    "mean = x_torch2 - theta[:, None] - tau * z\n",
    "print(mean.shape)\n",
    "print(mean[0,:])\n",
    "\n",
    "mean_0 = x_torch2 - theta[0] - tau * z[0, :]\n",
    "print(mean_0)\n",
    "\n",
    "mean_sum = torch.sum(mean, dim = 1)\n",
    "print(mean_sum.shape)\n",
    "print(mean_sum[0])\n",
    "\n",
    "x_torch2 = x_torch.reshape(10000)\n",
    "print(x_torch2.shape)\n",
    "print((tau * z).shape)\n",
    "a = x_torch2 - (tau * z)\n",
    "print(a.shape)\n",
    "\n",
    "m = 100\n",
    "eps_theta = np.random.normal(size = m)\n",
    "eps_z = np.random.normal(size = (m, n))\n",
    "\n",
    "nu_sd_theta_log = torch.randn(1)\n",
    "nu_mean_theta = torch.randn(1)\n",
    "nu_sd_z_log = torch.randn(n)\n",
    "nu_mean_z = torch.randn(n)\n",
    "\n",
    "eps_theta = Variable(torch.FloatTensor(eps_theta))\n",
    "eps_z = Variable(torch.FloatTensor(eps_z))\n",
    "\n",
    "# eps_z.mul(torch.exp(self.nu_sd_z_log)).add(self.nu_mean_z)\n",
    "\n",
    "a = eps_theta.mul(torch.exp(nu_sd_theta_log)).add(nu_mean_theta)\n",
    "b = eps_z.mul(torch.exp(nu_sd_z_log)).add(nu_mean_z)\n",
    "print(a.shape)\n",
    "print(b.shape)"
   ]
  }
 ],
 "metadata": {
  "kernelspec": {
   "display_name": "Python 3.9.15 64-bit",
   "language": "python",
   "name": "python3"
  },
  "language_info": {
   "codemirror_mode": {
    "name": "ipython",
    "version": 3
   },
   "file_extension": ".py",
   "mimetype": "text/x-python",
   "name": "python",
   "nbconvert_exporter": "python",
   "pygments_lexer": "ipython3",
   "version": "3.9.15"
  },
  "vscode": {
   "interpreter": {
    "hash": "5b7e68a6523d9654d119e3ab45bb2c5c51f02effa6643d52b99addcee48c066f"
   }
  }
 },
 "nbformat": 4,
 "nbformat_minor": 5
}
